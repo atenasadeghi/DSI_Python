{
 "cells": [
  {
   "cell_type": "code",
   "execution_count": 176,
   "metadata": {},
   "outputs": [
    {
     "name": "stderr",
     "output_type": "stream",
     "text": [
      "C:\\Users\\Atena\\Anaconda3\\lib\\site-packages\\IPython\\core\\interactiveshell.py:2698: DtypeWarning: Columns (0) have mixed types. Specify dtype option on import or set low_memory=False.\n",
      "  interactivity=interactivity, compiler=compiler, result=result)\n"
     ]
    },
    {
     "data": {
      "text/plain": [
       "Index(['beer_reviews/', 'brewery_name', 'review_time', 'review_overall',\n",
       "       'review_aroma', 'review_appearance', 'review_profilename', 'beer_style',\n",
       "       'review_palate', 'review_taste', 'beer_name', 'beer_abv',\n",
       "       'beer_beerid'],\n",
       "      dtype='object')"
      ]
     },
     "execution_count": 176,
     "metadata": {},
     "output_type": "execute_result"
    }
   ],
   "source": [
    "#Data: https://s3.amazonaws.com/demo-datasets/beer_reviews.tar.gz   with 1586630  rows and , 13  columns \n",
    "#first question for this data set is Which brewery produces the strongest beers by ABV%?\n",
    "\n",
    "#'import tarfile' to get the capability to open compressed / gzipped tarfiles,\n",
    "import tarfile \n",
    "import pandas as pd\n",
    "# Importing the libraries\n",
    "import numpy as np\n",
    "import matplotlib.pyplot as plt\n",
    "import pandas as pd\n",
    "import seaborn as sns\n",
    "from sklearn import tree\n",
    "from sklearn.metrics import accuracy_score\n",
    "df = pd.read_csv('beer_reviews (1).tar.gz', compression='gzip')#, header=0, sep=',', quotechar='\"')\n",
    "df.shape\n",
    "\n",
    "# First ran some initial analysis to undrestand data a bit better, to get the data with the best abv, i found the max abv from data frame\n",
    "#and and got the subset of data frame using that condition.\n",
    "\n",
    "# df.head(2)\n",
    "df.columns\n",
    "# df['beer_style'].value_counts()\n",
    "# %matplotlib inline\n",
    "# sns.set()\n",
    "# sns.countplot(x='beer_abv', data=df)\n",
    "#df.groupby(['beer_abv']).review_taste.sum()\n",
    "#df.head(2) \n",
    "# min(df['beer_abv'])\n",
    "# max(df['beer_abv'])\n",
    "# df['beer_reviews/']\n",
    "# df['review_time']\n",
    "# max(df['review_appearance'])\n",
    "#max(df['review_overall'])\n",
    "#df['beer_reviews/'].replace(to_replace=['\\tbrewery_id float8'],value= 0 ,inplace=True)\n",
    "#df['beer_reviews/'].replace(to_replace=['NaN'],value= 0 ,inplace=True)\n",
    "# import numpy as np\n",
    "# df['brewery_name'][df['beer_abv'] > 57]"
   ]
  },
  {
   "cell_type": "code",
   "execution_count": 117,
   "metadata": {},
   "outputs": [],
   "source": [
    "# the answer for the forst question would be  Schorschbräu\n",
    "# 12919    Schorschbräu\n",
    "# Name: brewery_name, dtype: object\n",
    "\n",
    "# followin are some analysis around mean to know how can we reduce the data."
   ]
  },
  {
   "cell_type": "code",
   "execution_count": 122,
   "metadata": {},
   "outputs": [
    {
     "data": {
      "text/html": [
       "<div>\n",
       "<style>\n",
       "    .dataframe thead tr:only-child th {\n",
       "        text-align: right;\n",
       "    }\n",
       "\n",
       "    .dataframe thead th {\n",
       "        text-align: left;\n",
       "    }\n",
       "\n",
       "    .dataframe tbody tr th {\n",
       "        vertical-align: top;\n",
       "    }\n",
       "</style>\n",
       "<table border=\"1\" class=\"dataframe\">\n",
       "  <thead>\n",
       "    <tr>\n",
       "      <th></th>\n",
       "      <th></th>\n",
       "      <th colspan=\"2\" halign=\"left\">beer_abv</th>\n",
       "    </tr>\n",
       "    <tr>\n",
       "      <th></th>\n",
       "      <th></th>\n",
       "      <th>size</th>\n",
       "      <th>mean</th>\n",
       "    </tr>\n",
       "    <tr>\n",
       "      <th>brewery_name</th>\n",
       "      <th>beer_name</th>\n",
       "      <th></th>\n",
       "      <th></th>\n",
       "    </tr>\n",
       "  </thead>\n",
       "  <tbody>\n",
       "    <tr>\n",
       "      <th rowspan=\"7\" valign=\"top\">'t Hofbrouwerijke</th>\n",
       "      <th>Blondelle</th>\n",
       "      <td>1.0</td>\n",
       "      <td>8.0</td>\n",
       "    </tr>\n",
       "    <tr>\n",
       "      <th>Bosprotter</th>\n",
       "      <td>9.0</td>\n",
       "      <td>8.5</td>\n",
       "    </tr>\n",
       "    <tr>\n",
       "      <th>Hof Korvatunturi</th>\n",
       "      <td>2.0</td>\n",
       "      <td>11.0</td>\n",
       "    </tr>\n",
       "    <tr>\n",
       "      <th>Hofblues</th>\n",
       "      <td>16.0</td>\n",
       "      <td>5.5</td>\n",
       "    </tr>\n",
       "    <tr>\n",
       "      <th>Hofdraak</th>\n",
       "      <td>7.0</td>\n",
       "      <td>6.5</td>\n",
       "    </tr>\n",
       "    <tr>\n",
       "      <th>Hofnar</th>\n",
       "      <td>1.0</td>\n",
       "      <td>5.0</td>\n",
       "    </tr>\n",
       "    <tr>\n",
       "      <th>Hoftrol</th>\n",
       "      <td>1.0</td>\n",
       "      <td>6.2</td>\n",
       "    </tr>\n",
       "    <tr>\n",
       "      <th rowspan=\"6\" valign=\"top\">(512) Brewing Company</th>\n",
       "      <th>(512) Alt</th>\n",
       "      <td>11.0</td>\n",
       "      <td>6.0</td>\n",
       "    </tr>\n",
       "    <tr>\n",
       "      <th>(512) Black IPA</th>\n",
       "      <td>13.0</td>\n",
       "      <td>7.0</td>\n",
       "    </tr>\n",
       "    <tr>\n",
       "      <th>(512) Brandy Barrel Aged ONE</th>\n",
       "      <td>8.0</td>\n",
       "      <td>8.0</td>\n",
       "    </tr>\n",
       "    <tr>\n",
       "      <th>(512) Bruin</th>\n",
       "      <td>16.0</td>\n",
       "      <td>7.6</td>\n",
       "    </tr>\n",
       "    <tr>\n",
       "      <th>(512) Cascabel Cream Stout</th>\n",
       "      <td>7.0</td>\n",
       "      <td>6.0</td>\n",
       "    </tr>\n",
       "    <tr>\n",
       "      <th>(512) IPA</th>\n",
       "      <td>54.0</td>\n",
       "      <td>7.0</td>\n",
       "    </tr>\n",
       "  </tbody>\n",
       "</table>\n",
       "</div>"
      ],
      "text/plain": [
       "                                                   beer_abv      \n",
       "                                                       size  mean\n",
       "brewery_name          beer_name                                  \n",
       "'t Hofbrouwerijke     Blondelle                         1.0   8.0\n",
       "                      Bosprotter                        9.0   8.5\n",
       "                      Hof Korvatunturi                  2.0  11.0\n",
       "                      Hofblues                         16.0   5.5\n",
       "                      Hofdraak                          7.0   6.5\n",
       "                      Hofnar                            1.0   5.0\n",
       "                      Hoftrol                           1.0   6.2\n",
       "(512) Brewing Company (512) Alt                        11.0   6.0\n",
       "                      (512) Black IPA                  13.0   7.0\n",
       "                      (512) Brandy Barrel Aged ONE      8.0   8.0\n",
       "                      (512) Bruin                      16.0   7.6\n",
       "                      (512) Cascabel Cream Stout        7.0   6.0\n",
       "                      (512) IPA                        54.0   7.0"
      ]
     },
     "execution_count": 122,
     "metadata": {},
     "output_type": "execute_result"
    }
   ],
   "source": [
    "abv_df = df.groupby(('brewery_name', 'beer_name')).agg({'beer_abv': [np.size, np.mean]})\n",
    "abv_df.head(13)"
   ]
  },
  {
   "cell_type": "code",
   "execution_count": 130,
   "metadata": {},
   "outputs": [
    {
     "data": {
      "text/plain": [
       "MultiIndex(levels=[['beer_abv'], ['size', 'mean']],\n",
       "           labels=[[0, 0], [0, 1]])"
      ]
     },
     "execution_count": 130,
     "metadata": {},
     "output_type": "execute_result"
    }
   ],
   "source": [
    "abv_df.columns"
   ]
  },
  {
   "cell_type": "code",
   "execution_count": 149,
   "metadata": {},
   "outputs": [
    {
     "data": {
      "text/html": [
       "<div>\n",
       "<style>\n",
       "    .dataframe thead tr:only-child th {\n",
       "        text-align: right;\n",
       "    }\n",
       "\n",
       "    .dataframe thead th {\n",
       "        text-align: left;\n",
       "    }\n",
       "\n",
       "    .dataframe tbody tr th {\n",
       "        vertical-align: top;\n",
       "    }\n",
       "</style>\n",
       "<table border=\"1\" class=\"dataframe\">\n",
       "  <thead>\n",
       "    <tr>\n",
       "      <th></th>\n",
       "      <th colspan=\"2\" halign=\"left\">beer_abv</th>\n",
       "    </tr>\n",
       "    <tr>\n",
       "      <th></th>\n",
       "      <th>size</th>\n",
       "      <th>mean</th>\n",
       "    </tr>\n",
       "    <tr>\n",
       "      <th>brewery_name</th>\n",
       "      <th></th>\n",
       "      <th></th>\n",
       "    </tr>\n",
       "  </thead>\n",
       "  <tbody>\n",
       "    <tr>\n",
       "      <th>'t Hofbrouwerijke</th>\n",
       "      <td>5.285714</td>\n",
       "      <td>7.242857</td>\n",
       "    </tr>\n",
       "    <tr>\n",
       "      <th>(512) Brewing Company</th>\n",
       "      <td>21.714286</td>\n",
       "      <td>7.238462</td>\n",
       "    </tr>\n",
       "    <tr>\n",
       "      <th>10 Barrel Brewing Co.</th>\n",
       "      <td>4.941176</td>\n",
       "      <td>6.109091</td>\n",
       "    </tr>\n",
       "    <tr>\n",
       "      <th>1516 Brewing Company</th>\n",
       "      <td>1.888889</td>\n",
       "      <td>5.650000</td>\n",
       "    </tr>\n",
       "    <tr>\n",
       "      <th>16 Mile Brewing Company</th>\n",
       "      <td>15.333333</td>\n",
       "      <td>5.716667</td>\n",
       "    </tr>\n",
       "    <tr>\n",
       "      <th>1648 Brewing Company Ltd</th>\n",
       "      <td>1.000000</td>\n",
       "      <td>3.700000</td>\n",
       "    </tr>\n",
       "    <tr>\n",
       "      <th>1702 / The Address Brewing Co.</th>\n",
       "      <td>1.000000</td>\n",
       "      <td>6.800000</td>\n",
       "    </tr>\n",
       "    <tr>\n",
       "      <th>192 Brewing Company</th>\n",
       "      <td>1.000000</td>\n",
       "      <td>6.000000</td>\n",
       "    </tr>\n",
       "    <tr>\n",
       "      <th>1st City Brewery and Grill</th>\n",
       "      <td>1.500000</td>\n",
       "      <td>NaN</td>\n",
       "    </tr>\n",
       "    <tr>\n",
       "      <th>2 Brothers Brewery</th>\n",
       "      <td>5.666667</td>\n",
       "      <td>6.266667</td>\n",
       "    </tr>\n",
       "    <tr>\n",
       "      <th>21st Amendment Brewery</th>\n",
       "      <td>35.879518</td>\n",
       "      <td>6.901282</td>\n",
       "    </tr>\n",
       "    <tr>\n",
       "      <th>23rd Street Brewery</th>\n",
       "      <td>2.150000</td>\n",
       "      <td>6.805000</td>\n",
       "    </tr>\n",
       "    <tr>\n",
       "      <th>2nd Shift Brewery</th>\n",
       "      <td>2.444444</td>\n",
       "      <td>6.680000</td>\n",
       "    </tr>\n",
       "  </tbody>\n",
       "</table>\n",
       "</div>"
      ],
      "text/plain": [
       "                                 beer_abv          \n",
       "                                     size      mean\n",
       "brewery_name                                       \n",
       "'t Hofbrouwerijke                5.285714  7.242857\n",
       "(512) Brewing Company           21.714286  7.238462\n",
       "10 Barrel Brewing Co.            4.941176  6.109091\n",
       "1516 Brewing Company             1.888889  5.650000\n",
       "16 Mile Brewing Company         15.333333  5.716667\n",
       "1648 Brewing Company Ltd         1.000000  3.700000\n",
       "1702 / The Address Brewing Co.   1.000000  6.800000\n",
       "192 Brewing Company              1.000000  6.000000\n",
       "1st City Brewery and Grill       1.500000       NaN\n",
       "2 Brothers Brewery               5.666667  6.266667\n",
       "21st Amendment Brewery          35.879518  6.901282\n",
       "23rd Street Brewery              2.150000  6.805000\n",
       "2nd Shift Brewery                2.444444  6.680000"
      ]
     },
     "execution_count": 149,
     "metadata": {},
     "output_type": "execute_result"
    }
   ],
   "source": [
    "# Calculating the overall ABV mean for each brewery-- (group by level)\n",
    "meanabv_df = abv_df.groupby(level='brewery_name').mean()\n",
    "meanabv_df.head(13)\n"
   ]
  },
  {
   "cell_type": "code",
   "execution_count": 150,
   "metadata": {},
   "outputs": [
    {
     "data": {
      "text/plain": [
       "MultiIndex(levels=[['beer_abv'], ['size', 'mean']],\n",
       "           labels=[[0, 0], [0, 1]])"
      ]
     },
     "execution_count": 150,
     "metadata": {},
     "output_type": "execute_result"
    }
   ],
   "source": [
    "meanabv_df.columns"
   ]
  },
  {
   "cell_type": "code",
   "execution_count": 151,
   "metadata": {},
   "outputs": [
    {
     "data": {
      "text/plain": [
       "Index(['mean_Ratings', 'mean_abv'], dtype='object')"
      ]
     },
     "execution_count": 151,
     "metadata": {},
     "output_type": "execute_result"
    }
   ],
   "source": [
    "#plotting will be easier without multiindeexing so i changed columns name \n",
    "meanabv_df.columns = ('mean_Ratings', 'mean_abv')\n",
    "meanabv_df.columns\n",
    "# resetindex_df = meanABV_df.reset_index()\n",
    "# resetindex_df.head(4)"
   ]
  },
  {
   "cell_type": "code",
   "execution_count": 154,
   "metadata": {},
   "outputs": [
    {
     "data": {
      "image/png": "[encoded data removed]",
      "text/plain": [
       "<matplotlib.figure.Figure at 0xe8fbd18b70>"
      ]
     },
     "metadata": {},
     "output_type": "display_data"
    }
   ],
   "source": [
    "# Seaborn plotting\n",
    "x = meanabv_df['mean_abv'].dropna()\n",
    "figdist = sns.distplot(x, bins=30, kde=False, rug=True);\n",
    "\n",
    "# Matplotlib graph formatting\n",
    "plt.title('Mean Beer_ABV  By Brewery')\n",
    "plt.xlabel('Beer_ABV')\n",
    "plt.ylabel('Frequency')\n",
    "plt.show()"
   ]
  },
  {
   "cell_type": "code",
   "execution_count": null,
   "metadata": {},
   "outputs": [],
   "source": []
  },
  {
   "cell_type": "code",
   "execution_count": null,
   "metadata": {},
   "outputs": [],
   "source": []
  },
  {
   "cell_type": "code",
   "execution_count": 18,
   "metadata": {},
   "outputs": [
    {
     "name": "stderr",
     "output_type": "stream",
     "text": [
      "C:\\Users\\Atena\\Anaconda3\\lib\\site-packages\\ipykernel_launcher.py:7: UserWarning: Boolean Series key will be reindexed to match DataFrame index.\n",
      "  import sys\n"
     ]
    },
    {
     "data": {
      "text/html": [
       "<div>\n",
       "<style>\n",
       "    .dataframe thead tr:only-child th {\n",
       "        text-align: right;\n",
       "    }\n",
       "\n",
       "    .dataframe thead th {\n",
       "        text-align: left;\n",
       "    }\n",
       "\n",
       "    .dataframe tbody tr th {\n",
       "        vertical-align: top;\n",
       "    }\n",
       "</style>\n",
       "<table border=\"1\" class=\"dataframe\">\n",
       "  <thead>\n",
       "    <tr style=\"text-align: right;\">\n",
       "      <th></th>\n",
       "      <th>beer_reviews/</th>\n",
       "      <th>brewery_name</th>\n",
       "      <th>review_time</th>\n",
       "      <th>review_overall</th>\n",
       "      <th>review_aroma</th>\n",
       "      <th>review_appearance</th>\n",
       "      <th>review_profilename</th>\n",
       "      <th>beer_style</th>\n",
       "      <th>review_palate</th>\n",
       "      <th>review_taste</th>\n",
       "      <th>beer_name</th>\n",
       "      <th>beer_abv</th>\n",
       "      <th>beer_beerid</th>\n",
       "    </tr>\n",
       "  </thead>\n",
       "  <tbody>\n",
       "    <tr>\n",
       "      <th>135281</th>\n",
       "      <td>5318</td>\n",
       "      <td>Port Brewing Company / Pizza Port</td>\n",
       "      <td>1.125787e+09</td>\n",
       "      <td>5.0</td>\n",
       "      <td>5.0</td>\n",
       "      <td>5.0</td>\n",
       "      <td>BuckeyeNation</td>\n",
       "      <td>American Double / Imperial IPA</td>\n",
       "      <td>5.0</td>\n",
       "      <td>5.0</td>\n",
       "      <td>Frank Double IPA</td>\n",
       "      <td>8.1</td>\n",
       "      <td>5933.0</td>\n",
       "    </tr>\n",
       "    <tr>\n",
       "      <th>880688</th>\n",
       "      <td>147</td>\n",
       "      <td>Stone Brewing Co.</td>\n",
       "      <td>1.133652e+09</td>\n",
       "      <td>5.0</td>\n",
       "      <td>5.0</td>\n",
       "      <td>5.0</td>\n",
       "      <td>BuckeyeNation</td>\n",
       "      <td>Russian Imperial Stout</td>\n",
       "      <td>5.0</td>\n",
       "      <td>5.0</td>\n",
       "      <td>Stone Imperial Russian Stout</td>\n",
       "      <td>10.5</td>\n",
       "      <td>1160.0</td>\n",
       "    </tr>\n",
       "    <tr>\n",
       "      <th>1136901</th>\n",
       "      <td>863</td>\n",
       "      <td>Russian River Brewing Company</td>\n",
       "      <td>1.142207e+09</td>\n",
       "      <td>5.0</td>\n",
       "      <td>5.0</td>\n",
       "      <td>5.0</td>\n",
       "      <td>BuckeyeNation</td>\n",
       "      <td>American Double / Imperial IPA</td>\n",
       "      <td>5.0</td>\n",
       "      <td>5.0</td>\n",
       "      <td>Pliny The Younger</td>\n",
       "      <td>11.0</td>\n",
       "      <td>21690.0</td>\n",
       "    </tr>\n",
       "    <tr>\n",
       "      <th>1485072</th>\n",
       "      <td>701</td>\n",
       "      <td>Boundary Bay Brewery &amp; Bistro</td>\n",
       "      <td>1.114647e+09</td>\n",
       "      <td>5.0</td>\n",
       "      <td>5.0</td>\n",
       "      <td>5.0</td>\n",
       "      <td>BuckeyeNation</td>\n",
       "      <td>American Double / Imperial IPA</td>\n",
       "      <td>5.0</td>\n",
       "      <td>5.0</td>\n",
       "      <td>Imperial IPA</td>\n",
       "      <td>NaN</td>\n",
       "      <td>21563.0</td>\n",
       "    </tr>\n",
       "  </tbody>\n",
       "</table>\n",
       "</div>"
      ],
      "text/plain": [
       "        beer_reviews/                       brewery_name   review_time  \\\n",
       "135281           5318  Port Brewing Company / Pizza Port  1.125787e+09   \n",
       "880688            147                  Stone Brewing Co.  1.133652e+09   \n",
       "1136901           863      Russian River Brewing Company  1.142207e+09   \n",
       "1485072           701      Boundary Bay Brewery & Bistro  1.114647e+09   \n",
       "\n",
       "         review_overall  review_aroma  review_appearance review_profilename  \\\n",
       "135281              5.0           5.0                5.0      BuckeyeNation   \n",
       "880688              5.0           5.0                5.0      BuckeyeNation   \n",
       "1136901             5.0           5.0                5.0      BuckeyeNation   \n",
       "1485072             5.0           5.0                5.0      BuckeyeNation   \n",
       "\n",
       "                             beer_style  review_palate  review_taste  \\\n",
       "135281   American Double / Imperial IPA            5.0           5.0   \n",
       "880688           Russian Imperial Stout            5.0           5.0   \n",
       "1136901  American Double / Imperial IPA            5.0           5.0   \n",
       "1485072  American Double / Imperial IPA            5.0           5.0   \n",
       "\n",
       "                            beer_name  beer_abv  beer_beerid  \n",
       "135281               Frank Double IPA       8.1       5933.0  \n",
       "880688   Stone Imperial Russian Stout      10.5       1160.0  \n",
       "1136901             Pliny The Younger      11.0      21690.0  \n",
       "1485072                  Imperial IPA       NaN      21563.0  "
      ]
     },
     "execution_count": 18,
     "metadata": {},
     "output_type": "execute_result"
    }
   ],
   "source": [
    "#Question 2 \n",
    "#If you had to pick 3 beers to recommend using only the data in this dataset, which would you pick?\n",
    "# again i addedsome condition on dataframe and got a subset of data, then ran a health check to see  if there is any review for answers.\n",
    "#the initial answer was \n",
    "#BuckeyeNation\n",
    "#Frank Double IPA\t\n",
    "#Stone Imperial Russian Stout\n",
    "#Pliny The Younger\n",
    "# but since no review was exist for this one, the final anwer would be \n",
    "#Frank Double IPA\t\n",
    "#Stone Imperial Russian Stout\n",
    "#Pliny The Younger\n",
    "df.groupby(['brewery_name']).beer_abv.max()\n",
    "df.groupby('brewery_name').beer_abv.describe()\n",
    "df_condition=df['beer_name'] [(df['review_overall'] ==5) & (df['review_appearance']==5) & (df['review_taste']==5) &(df['review_aroma']==5) &(df['review_palate']==5)]\n",
    "df['review_profilename'].value_counts()\n",
    "df['review_profilename']=='northyorksammy'\n",
    "#df_condition.head(2)\n",
    "df[df['review_profilename']=='BuckeyeNation'] [(df['review_overall'] ==5) & (df['review_appearance']==5) & (df['review_taste']==5) &(df['review_aroma']==5) &(df['review_palate']==5)]\n"
   ]
  },
  {
   "cell_type": "code",
   "execution_count": null,
   "metadata": {},
   "outputs": [],
   "source": [
    "#Frank Double IPA\t\n",
    "#Stone Imperial Russian Stout\n",
    "#Pliny The Younger\n",
    "#df.isnull().any(axis=0)\n"
   ]
  },
  {
   "cell_type": "code",
   "execution_count": null,
   "metadata": {},
   "outputs": [],
   "source": [
    "df['beer_abv'].isnull().sum()\n",
    "df.shape\n",
    "df.groupby(['brewery_name']).beer_abv.max()\n",
    "df['brewery_name'].groupby(df['brewery_name']).count()"
   ]
  },
  {
   "cell_type": "code",
   "execution_count": null,
   "metadata": {},
   "outputs": [],
   "source": []
  },
  {
   "cell_type": "code",
   "execution_count": 158,
   "metadata": {},
   "outputs": [
    {
     "name": "stderr",
     "output_type": "stream",
     "text": [
      "C:\\Users\\Atena\\Anaconda3\\lib\\site-packages\\pandas\\core\\frame.py:2754: SettingWithCopyWarning: \n",
      "A value is trying to be set on a copy of a slice from a DataFrame\n",
      "\n",
      "See the caveats in the documentation: http://pandas.pydata.org/pandas-docs/stable/indexing.html#indexing-view-versus-copy\n",
      "  downcast=downcast, **kwargs)\n"
     ]
    },
    {
     "name": "stdout",
     "output_type": "stream",
     "text": [
      "[ 4.28907708]\n",
      "[ 0.01581512  0.0209234   0.92156047  0.04170101]\n"
     ]
    },
    {
     "data": {
      "text/plain": [
       "0.64631015679595216"
      ]
     },
     "execution_count": 158,
     "metadata": {},
     "output_type": "execute_result"
    }
   ],
   "source": [
    "#3) Which of the factors (aroma, taste, appearance, palette) are most important in determining the overall quality of a beer?\n",
    "\n",
    "# to answer this question, ran RandomForest and used the feature_importance function to find out the most important feature,\n",
    "#then i created a new dataframe, with feature_importance in one column and the features name in another column.\n",
    "#then sorted the datafareme  to find most important features \n",
    "X=df[['review_aroma', 'review_appearance','review_taste', 'beer_abv']]\n",
    "y=df['review_overall']\n",
    "X.fillna(0, inplace=True)\n",
    "y.fillna(0, inplace=True)\n",
    "\n",
    "#y value = overall review\n",
    "#remaining columns \n",
    "\n",
    "from sklearn.cross_validation import train_test_split\n",
    "from sklearn.ensemble import RandomForestRegressor\n",
    "X_train, X_test, y_train, y_test = train_test_split(X, y, test_size=0.35,random_state=42)\n",
    "forest = RandomForestRegressor(n_estimators=60, random_state=42, n_jobs=-1)\n",
    "forest.fit(X_train, y_train)\n",
    "print(forest.predict([[0, 5, 4.3, 0]]))\n",
    "\n",
    "print(forest.feature_importances_)\n",
    "\n",
    "forest.score(X_train,y_train)\n",
    "forest.score(X_test,y_test)"
   ]
  },
  {
   "cell_type": "code",
   "execution_count": 37,
   "metadata": {},
   "outputs": [
    {
     "data": {
      "text/plain": [
       "<bound method RegressorMixin.score of RandomForestRegressor(bootstrap=True, criterion='mse', max_depth=None,\n",
       "           max_features='auto', max_leaf_nodes=None,\n",
       "           min_impurity_decrease=0.0, min_impurity_split=None,\n",
       "           min_samples_leaf=1, min_samples_split=2,\n",
       "           min_weight_fraction_leaf=0.0, n_estimators=5, n_jobs=1,\n",
       "           oob_score=False, random_state=2, verbose=0, warm_start=False)>"
      ]
     },
     "execution_count": 37,
     "metadata": {},
     "output_type": "execute_result"
    }
   ],
   "source": []
  },
  {
   "cell_type": "code",
   "execution_count": 51,
   "metadata": {},
   "outputs": [],
   "source": [
    "importance_df=pd.DataFrame({'importance' : forest.feature_importances_, 'feat\n",
    "                            ures_name':X_train.columns.values})"
   ]
  },
  {
   "cell_type": "code",
   "execution_count": 71,
   "metadata": {},
   "outputs": [
    {
     "data": {
      "text/html": [
       "<div>\n",
       "<style>\n",
       "    .dataframe thead tr:only-child th {\n",
       "        text-align: right;\n",
       "    }\n",
       "\n",
       "    .dataframe thead th {\n",
       "        text-align: left;\n",
       "    }\n",
       "\n",
       "    .dataframe tbody tr th {\n",
       "        vertical-align: top;\n",
       "    }\n",
       "</style>\n",
       "<table border=\"1\" class=\"dataframe\">\n",
       "  <thead>\n",
       "    <tr style=\"text-align: right;\">\n",
       "      <th></th>\n",
       "      <th>features_name</th>\n",
       "      <th>importance</th>\n",
       "    </tr>\n",
       "  </thead>\n",
       "  <tbody>\n",
       "    <tr>\n",
       "      <th>2</th>\n",
       "      <td>review_taste</td>\n",
       "      <td>0.926252</td>\n",
       "    </tr>\n",
       "    <tr>\n",
       "      <th>3</th>\n",
       "      <td>beer_abv</td>\n",
       "      <td>0.038665</td>\n",
       "    </tr>\n",
       "    <tr>\n",
       "      <th>1</th>\n",
       "      <td>review_appearance</td>\n",
       "      <td>0.020168</td>\n",
       "    </tr>\n",
       "    <tr>\n",
       "      <th>0</th>\n",
       "      <td>review_aroma</td>\n",
       "      <td>0.014915</td>\n",
       "    </tr>\n",
       "  </tbody>\n",
       "</table>\n",
       "</div>"
      ],
      "text/plain": [
       "       features_name  importance\n",
       "2       review_taste    0.926252\n",
       "3           beer_abv    0.038665\n",
       "1  review_appearance    0.020168\n",
       "0       review_aroma    0.014915"
      ]
     },
     "execution_count": 71,
     "metadata": {},
     "output_type": "execute_result"
    }
   ],
   "source": [
    "importance_df.sort_values(['importance'], ascending=False)"
   ]
  },
  {
   "cell_type": "code",
   "execution_count": 70,
   "metadata": {},
   "outputs": [
    {
     "data": {
      "text/plain": [
       "0    0.014915\n",
       "1    0.020168\n",
       "2    0.926252\n",
       "3    0.038665\n",
       "Name: importance, dtype: float64"
      ]
     },
     "execution_count": 70,
     "metadata": {},
     "output_type": "execute_result"
    }
   ],
   "source": [
    "importance_df['importance']"
   ]
  },
  {
   "cell_type": "code",
   "execution_count": 183,
   "metadata": {},
   "outputs": [
    {
     "data": {
      "image/png": "[encoded data removed]",
      "text/plain": [
       "<matplotlib.figure.Figure at 0xe8fbd35c50>"
      ]
     },
     "metadata": {},
     "output_type": "display_data"
    }
   ],
   "source": [
    "# or you could use pearson correlation  without using any kind of model which he answer is Appearance followed by Aroma \n",
    "\n",
    "# Removing 'beer_beerid' and finding correlation\n",
    "df1 = df.iloc[:,[0,3,4,5,7,8,9,11]]\n",
    "# 'beer_reviews/', 'brewery_name', 'review_time', 'review_overall',\n",
    "#        'review_aroma', 'review_appearance', 'review_profilename', 'beer_style',\n",
    "#        'review_palate', 'review_taste', 'beer_name', 'beer_abv',\n",
    "#        'beer_beerid'\n",
    "\n",
    "\n",
    "\n",
    "df1.columns = ['beer_reviews', 'OverAll', 'Aroma', 'Appearance', 'style','palate','Taste',  'ABV']\n",
    "cor_vals = df1.corr()\n",
    "cor_vals = cor_vals.iloc[0:9,0:9]\n",
    "\n",
    "# # Generate a mask for the upper triangle\n",
    "mask = np.zeros_like(cor_vals, dtype=np.bool)\n",
    "mask[np.triu_indices_from(mask, k=1)] = True\n",
    "\n",
    "# # Plot in seaborn\n",
    "plt.figure(figsize=(5.5, 5))\n",
    "sns.heatmap(cor_vals, mask=mask, annot=True, linewidths=.5, cmap=\"YlGnBu\")\n",
    "\n",
    "plt.title(\"Pearson Correlations\")\n",
    "plt.show()"
   ]
  },
  {
   "cell_type": "code",
   "execution_count": 164,
   "metadata": {},
   "outputs": [
    {
     "data": {
      "text/html": [
       "<div>\n",
       "<style>\n",
       "    .dataframe thead tr:only-child th {\n",
       "        text-align: right;\n",
       "    }\n",
       "\n",
       "    .dataframe thead th {\n",
       "        text-align: left;\n",
       "    }\n",
       "\n",
       "    .dataframe tbody tr th {\n",
       "        vertical-align: top;\n",
       "    }\n",
       "</style>\n",
       "<table border=\"1\" class=\"dataframe\">\n",
       "  <thead>\n",
       "    <tr>\n",
       "      <th></th>\n",
       "      <th colspan=\"3\" halign=\"left\">review_aroma</th>\n",
       "      <th colspan=\"3\" halign=\"left\">review_appearance</th>\n",
       "      <th>agg_mean</th>\n",
       "    </tr>\n",
       "    <tr>\n",
       "      <th></th>\n",
       "      <th>size</th>\n",
       "      <th>mean</th>\n",
       "      <th>std</th>\n",
       "      <th>size</th>\n",
       "      <th>mean</th>\n",
       "      <th>std</th>\n",
       "      <th></th>\n",
       "    </tr>\n",
       "    <tr>\n",
       "      <th>beer_style</th>\n",
       "      <th></th>\n",
       "      <th></th>\n",
       "      <th></th>\n",
       "      <th></th>\n",
       "      <th></th>\n",
       "      <th></th>\n",
       "      <th></th>\n",
       "    </tr>\n",
       "  </thead>\n",
       "  <tbody>\n",
       "    <tr>\n",
       "      <th>American Double / Imperial Stout</th>\n",
       "      <td>50705.0</td>\n",
       "      <td>4.160665</td>\n",
       "      <td>0.570496</td>\n",
       "      <td>50705.0</td>\n",
       "      <td>4.163633</td>\n",
       "      <td>0.515715</td>\n",
       "      <td>8.324297</td>\n",
       "    </tr>\n",
       "    <tr>\n",
       "      <th>Russian Imperial Stout</th>\n",
       "      <td>54129.0</td>\n",
       "      <td>4.076576</td>\n",
       "      <td>0.542319</td>\n",
       "      <td>54129.0</td>\n",
       "      <td>4.210072</td>\n",
       "      <td>0.508614</td>\n",
       "      <td>8.286649</td>\n",
       "    </tr>\n",
       "    <tr>\n",
       "      <th>Quadrupel (Quad)</th>\n",
       "      <td>18086.0</td>\n",
       "      <td>4.132533</td>\n",
       "      <td>0.544143</td>\n",
       "      <td>18086.0</td>\n",
       "      <td>4.117964</td>\n",
       "      <td>0.514112</td>\n",
       "      <td>8.250498</td>\n",
       "    </tr>\n",
       "    <tr>\n",
       "      <th>American Double / Imperial IPA</th>\n",
       "      <td>85977.0</td>\n",
       "      <td>4.097782</td>\n",
       "      <td>0.568236</td>\n",
       "      <td>85977.0</td>\n",
       "      <td>4.078916</td>\n",
       "      <td>0.469188</td>\n",
       "      <td>8.176698</td>\n",
       "    </tr>\n",
       "    <tr>\n",
       "      <th>Gueuze</th>\n",
       "      <td>6009.0</td>\n",
       "      <td>4.117574</td>\n",
       "      <td>0.560086</td>\n",
       "      <td>6009.0</td>\n",
       "      <td>4.034864</td>\n",
       "      <td>0.499991</td>\n",
       "      <td>8.152438</td>\n",
       "    </tr>\n",
       "  </tbody>\n",
       "</table>\n",
       "</div>"
      ],
      "text/plain": [
       "                                 review_aroma                      \\\n",
       "                                         size      mean       std   \n",
       "beer_style                                                          \n",
       "American Double / Imperial Stout      50705.0  4.160665  0.570496   \n",
       "Russian Imperial Stout                54129.0  4.076576  0.542319   \n",
       "Quadrupel (Quad)                      18086.0  4.132533  0.544143   \n",
       "American Double / Imperial IPA        85977.0  4.097782  0.568236   \n",
       "Gueuze                                 6009.0  4.117574  0.560086   \n",
       "\n",
       "                                 review_appearance                      \\\n",
       "                                              size      mean       std   \n",
       "beer_style                                                               \n",
       "American Double / Imperial Stout           50705.0  4.163633  0.515715   \n",
       "Russian Imperial Stout                     54129.0  4.210072  0.508614   \n",
       "Quadrupel (Quad)                           18086.0  4.117964  0.514112   \n",
       "American Double / Imperial IPA             85977.0  4.078916  0.469188   \n",
       "Gueuze                                      6009.0  4.034864  0.499991   \n",
       "\n",
       "                                  agg_mean  \n",
       "                                            \n",
       "beer_style                                  \n",
       "American Double / Imperial Stout  8.324297  \n",
       "Russian Imperial Stout            8.286649  \n",
       "Quadrupel (Quad)                  8.250498  \n",
       "American Double / Imperial IPA    8.176698  \n",
       "Gueuze                            8.152438  "
      ]
     },
     "execution_count": 164,
     "metadata": {},
     "output_type": "execute_result"
    }
   ],
   "source": [
    "# Question 4 \n",
    "#Lastly, if I typically enjoy a beer due to its aroma and appearance, which beer style should I try?\n",
    "# Grouping by beer_style, and aggregating statistical values\n",
    "beer_style_data=df[df['beer_style']!=0]\n",
    "appearance_aroma = beer_style_data.groupby('beer_style').agg({'review_aroma': [np.size, np.mean, np.std],'review_appearance': [np.size, np.mean, np.std]})\n",
    "appearance_aroma.head(3)\n",
    "\n",
    "# New agg_mean column and sort descending\n",
    "\n",
    "appearance_aroma['agg_mean'] =  (appearance_aroma['review_appearance', 'mean'] + appearance_aroma['review_aroma', 'mean'])\n",
    "appearance_aroma.head()\n",
    "appearance_aroma.sort_values(('agg_mean'), ascending=False)[:5]\n",
    "#The American Double / Imperial Stout is the recommended beer type, if you like aroma and appearance."
   ]
  },
  {
   "cell_type": "code",
   "execution_count": 165,
   "metadata": {},
   "outputs": [
    {
     "data": {
      "image/png": "[encoded data removed]",
      "text/plain": [
       "<matplotlib.figure.Figure at 0xe892505438>"
      ]
     },
     "metadata": {},
     "output_type": "display_data"
    }
   ],
   "source": [
    "\n",
    "\n",
    "from sklearn.linear_model import LinearRegression\n",
    "# Scatter plot with linear regression model\n",
    "X = appearance_aroma['review_appearance', 'mean'].values.reshape(-1, 1)\n",
    "y = appearance_aroma['review_aroma', 'mean'].values\n",
    "regressor = LinearRegression()\n",
    "regressor.fit(X, y)\n",
    "\n",
    "# Plotting the data\n",
    "plt.scatter(X, y, alpha=0.5)\n",
    "plt.title('Beer Styles - Aroma vs Appearance')\n",
    "plt.xlabel('Appearance Review')\n",
    "plt.ylabel('Aroma Review')\n",
    "plt.text(2.1, 4.2, 'r2 = {0:.02f}'.format(regressor.score(X, y)))\n",
    "\n",
    "# Plotting the regression model\n",
    "X_fit = np.linspace(2.5, 4.3, 100)[:, np.newaxis]\n",
    "y_fit = regressor.predict(X_fit)\n",
    "plt.plot(X_fit.squeeze(), y_fit, alpha=0.3);\n",
    "plt.show()\n",
    "\n",
    "\n",
    "\n",
    "\n"
   ]
  },
  {
   "cell_type": "code",
   "execution_count": 93,
   "metadata": {},
   "outputs": [],
   "source": []
  },
  {
   "cell_type": "code",
   "execution_count": null,
   "metadata": {},
   "outputs": [],
   "source": []
  },
  {
   "cell_type": "code",
   "execution_count": null,
   "metadata": {
    "collapsed": true
   },
   "outputs": [],
   "source": []
  }
 ],
 "metadata": {
  "kernelspec": {
   "display_name": "Python 3",
   "language": "python",
   "name": "python3"
  },
  "language_info": {
   "codemirror_mode": {
    "name": "ipython",
    "version": 3
   },
   "file_extension": ".py",
   "mimetype": "text/x-python",
   "name": "python",
   "nbconvert_exporter": "python",
   "pygments_lexer": "ipython3",
   "version": "3.6.3"
  }
 },
 "nbformat": 4,
 "nbformat_minor": 2
}
