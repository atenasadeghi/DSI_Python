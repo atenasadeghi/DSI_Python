{
 "cells": [
  {
   "cell_type": "code",
   "execution_count": 118,
   "metadata": {},
   "outputs": [
    {
     "name": "stderr",
     "output_type": "stream",
     "text": [
      "C:\\Users\\Atena\\Anaconda3\\lib\\site-packages\\IPython\\core\\interactiveshell.py:2698: DtypeWarning: Columns (0) have mixed types. Specify dtype option on import or set low_memory=False.\n",
      "  interactivity=interactivity, compiler=compiler, result=result)\n"
     ]
    },
    {
     "data": {
      "text/plain": [
       "(1586630, 13)"
      ]
     },
     "execution_count": 118,
     "metadata": {},
     "output_type": "execute_result"
    }
   ],
   "source": [
    "#Data: https://s3.amazonaws.com/demo-datasets/beer_reviews.tar.gz   with 1586630  rows and , 13  columns \n",
    "#first question for this data set is Which brewery produces the strongest beers by ABV%?\n",
    "\n",
    "#'import tarfile' to get the capability to open compressed / gzipped tarfiles,\n",
    "import tarfile \n",
    "import pandas as pd\n",
    "# Importing the libraries\n",
    "import numpy as np\n",
    "import matplotlib.pyplot as plt\n",
    "import pandas as pd\n",
    "import seaborn as sns\n",
    "from sklearn import tree\n",
    "from sklearn.metrics import accuracy_score\n",
    "df = pd.read_csv('beer_reviews (1).tar.gz', compression='gzip')#, header=0, sep=',', quotechar='\"')\n",
    "df.shape\n",
    "\n",
    "# i ra some initial analysis to undrestand data a bit better, to get the data with the best abv, i found the max abv from data frame\n",
    "#and and got the subset of data frame using that condition."
   ]
  },
  {
   "cell_type": "code",
   "execution_count": 117,
   "metadata": {},
   "outputs": [],
   "source": [
    "# df.head(2)\n",
    "# df.columns\n",
    "# df['beer_style'].value_counts()"
   ]
  },
  {
   "cell_type": "code",
   "execution_count": 116,
   "metadata": {},
   "outputs": [],
   "source": [
    "# %matplotlib inline\n",
    "# sns.set()\n",
    "# sns.countplot(x='beer_abv', data=df)"
   ]
  },
  {
   "cell_type": "code",
   "execution_count": null,
   "metadata": {
    "collapsed": true
   },
   "outputs": [],
   "source": [
    "#df.groupby(['beer_abv']).review_taste.sum()\n",
    "#df.head(2) #0,4,5,8,9,11\n",
    "import numpy as np\n",
    "#df['desired_output']=np.where(df['beer_abv'] >= 56, 'brewery_name',\"j\" )\n",
    "#valid_rows=np.where(df['beer_abv'] >= 56)\n",
    "#valid_row=np.where(df['beer_abv'] > 57)\n",
    "df['brewery_name'][df['beer_abv'] > 57]"
   ]
  },
  {
   "cell_type": "code",
   "execution_count": null,
   "metadata": {},
   "outputs": [],
   "source": [
    "# the answer for the forst question would be  Schorschbräu\n",
    "# 12919    Schorschbräu\n",
    "# Name: brewery_name, dtype: object\n"
   ]
  },
  {
   "cell_type": "code",
   "execution_count": 16,
   "metadata": {},
   "outputs": [
    {
     "data": {
      "text/plain": [
       "12919    Schorschbräu\n",
       "Name: brewery_name, dtype: object"
      ]
     },
     "execution_count": 16,
     "metadata": {},
     "output_type": "execute_result"
    }
   ],
   "source": []
  },
  {
   "cell_type": "code",
   "execution_count": 17,
   "metadata": {},
   "outputs": [
    {
     "data": {
      "text/plain": [
       "5.0"
      ]
     },
     "execution_count": 17,
     "metadata": {},
     "output_type": "execute_result"
    }
   ],
   "source": [
    "min(df['beer_abv'])\n",
    "max(df['beer_abv'])\n",
    "df['beer_reviews/']\n",
    "df['review_time']\n",
    "max(df['review_appearance'])\n",
    "#max(df['review_overall'])\n",
    "#df['beer_reviews/'].replace(to_replace=['\\tbrewery_id float8'],value= 0 ,inplace=True)\n",
    "#df['beer_reviews/'].replace(to_replace=['NaN'],value= 0 ,inplace=True)"
   ]
  },
  {
   "cell_type": "code",
   "execution_count": 18,
   "metadata": {},
   "outputs": [
    {
     "name": "stderr",
     "output_type": "stream",
     "text": [
      "C:\\Users\\Atena\\Anaconda3\\lib\\site-packages\\ipykernel_launcher.py:7: UserWarning: Boolean Series key will be reindexed to match DataFrame index.\n",
      "  import sys\n"
     ]
    },
    {
     "data": {
      "text/html": [
       "<div>\n",
       "<style>\n",
       "    .dataframe thead tr:only-child th {\n",
       "        text-align: right;\n",
       "    }\n",
       "\n",
       "    .dataframe thead th {\n",
       "        text-align: left;\n",
       "    }\n",
       "\n",
       "    .dataframe tbody tr th {\n",
       "        vertical-align: top;\n",
       "    }\n",
       "</style>\n",
       "<table border=\"1\" class=\"dataframe\">\n",
       "  <thead>\n",
       "    <tr style=\"text-align: right;\">\n",
       "      <th></th>\n",
       "      <th>beer_reviews/</th>\n",
       "      <th>brewery_name</th>\n",
       "      <th>review_time</th>\n",
       "      <th>review_overall</th>\n",
       "      <th>review_aroma</th>\n",
       "      <th>review_appearance</th>\n",
       "      <th>review_profilename</th>\n",
       "      <th>beer_style</th>\n",
       "      <th>review_palate</th>\n",
       "      <th>review_taste</th>\n",
       "      <th>beer_name</th>\n",
       "      <th>beer_abv</th>\n",
       "      <th>beer_beerid</th>\n",
       "    </tr>\n",
       "  </thead>\n",
       "  <tbody>\n",
       "    <tr>\n",
       "      <th>135281</th>\n",
       "      <td>5318</td>\n",
       "      <td>Port Brewing Company / Pizza Port</td>\n",
       "      <td>1.125787e+09</td>\n",
       "      <td>5.0</td>\n",
       "      <td>5.0</td>\n",
       "      <td>5.0</td>\n",
       "      <td>BuckeyeNation</td>\n",
       "      <td>American Double / Imperial IPA</td>\n",
       "      <td>5.0</td>\n",
       "      <td>5.0</td>\n",
       "      <td>Frank Double IPA</td>\n",
       "      <td>8.1</td>\n",
       "      <td>5933.0</td>\n",
       "    </tr>\n",
       "    <tr>\n",
       "      <th>880688</th>\n",
       "      <td>147</td>\n",
       "      <td>Stone Brewing Co.</td>\n",
       "      <td>1.133652e+09</td>\n",
       "      <td>5.0</td>\n",
       "      <td>5.0</td>\n",
       "      <td>5.0</td>\n",
       "      <td>BuckeyeNation</td>\n",
       "      <td>Russian Imperial Stout</td>\n",
       "      <td>5.0</td>\n",
       "      <td>5.0</td>\n",
       "      <td>Stone Imperial Russian Stout</td>\n",
       "      <td>10.5</td>\n",
       "      <td>1160.0</td>\n",
       "    </tr>\n",
       "    <tr>\n",
       "      <th>1136901</th>\n",
       "      <td>863</td>\n",
       "      <td>Russian River Brewing Company</td>\n",
       "      <td>1.142207e+09</td>\n",
       "      <td>5.0</td>\n",
       "      <td>5.0</td>\n",
       "      <td>5.0</td>\n",
       "      <td>BuckeyeNation</td>\n",
       "      <td>American Double / Imperial IPA</td>\n",
       "      <td>5.0</td>\n",
       "      <td>5.0</td>\n",
       "      <td>Pliny The Younger</td>\n",
       "      <td>11.0</td>\n",
       "      <td>21690.0</td>\n",
       "    </tr>\n",
       "    <tr>\n",
       "      <th>1485072</th>\n",
       "      <td>701</td>\n",
       "      <td>Boundary Bay Brewery &amp; Bistro</td>\n",
       "      <td>1.114647e+09</td>\n",
       "      <td>5.0</td>\n",
       "      <td>5.0</td>\n",
       "      <td>5.0</td>\n",
       "      <td>BuckeyeNation</td>\n",
       "      <td>American Double / Imperial IPA</td>\n",
       "      <td>5.0</td>\n",
       "      <td>5.0</td>\n",
       "      <td>Imperial IPA</td>\n",
       "      <td>NaN</td>\n",
       "      <td>21563.0</td>\n",
       "    </tr>\n",
       "  </tbody>\n",
       "</table>\n",
       "</div>"
      ],
      "text/plain": [
       "        beer_reviews/                       brewery_name   review_time  \\\n",
       "135281           5318  Port Brewing Company / Pizza Port  1.125787e+09   \n",
       "880688            147                  Stone Brewing Co.  1.133652e+09   \n",
       "1136901           863      Russian River Brewing Company  1.142207e+09   \n",
       "1485072           701      Boundary Bay Brewery & Bistro  1.114647e+09   \n",
       "\n",
       "         review_overall  review_aroma  review_appearance review_profilename  \\\n",
       "135281              5.0           5.0                5.0      BuckeyeNation   \n",
       "880688              5.0           5.0                5.0      BuckeyeNation   \n",
       "1136901             5.0           5.0                5.0      BuckeyeNation   \n",
       "1485072             5.0           5.0                5.0      BuckeyeNation   \n",
       "\n",
       "                             beer_style  review_palate  review_taste  \\\n",
       "135281   American Double / Imperial IPA            5.0           5.0   \n",
       "880688           Russian Imperial Stout            5.0           5.0   \n",
       "1136901  American Double / Imperial IPA            5.0           5.0   \n",
       "1485072  American Double / Imperial IPA            5.0           5.0   \n",
       "\n",
       "                            beer_name  beer_abv  beer_beerid  \n",
       "135281               Frank Double IPA       8.1       5933.0  \n",
       "880688   Stone Imperial Russian Stout      10.5       1160.0  \n",
       "1136901             Pliny The Younger      11.0      21690.0  \n",
       "1485072                  Imperial IPA       NaN      21563.0  "
      ]
     },
     "execution_count": 18,
     "metadata": {},
     "output_type": "execute_result"
    }
   ],
   "source": [
    "#Question 2 \n",
    "#If you had to pick 3 beers to recommend using only the data in this dataset, which would you pick?\n",
    "# again i addedsome condition on dataframe and got a subset of data, then ran a health check to see  if there is any review for answers.\n",
    "#the initial answer was \n",
    "#BuckeyeNation\n",
    "#Frank Double IPA\t\n",
    "#Stone Imperial Russian Stout\n",
    "#Pliny The Younger\n",
    "# but since noo review was exist for this one, the final anwer would be \n",
    "#Frank Double IPA\t\n",
    "#Stone Imperial Russian Stout\n",
    "#Pliny The Younger\n",
    "df.groupby(['brewery_name']).beer_abv.max()\n",
    "df.groupby('brewery_name').beer_abv.describe()\n",
    "df_condition=df['beer_name'] [(df['review_overall'] ==5) & (df['review_appearance']==5) & (df['review_taste']==5) &(df['review_aroma']==5) &(df['review_palate']==5)]\n",
    "df['review_profilename'].value_counts()\n",
    "df['review_profilename']=='northyorksammy'\n",
    "#df_condition.head(2)\n",
    "df[df['review_profilename']=='BuckeyeNation'] [(df['review_overall'] ==5) & (df['review_appearance']==5) & (df['review_taste']==5) &(df['review_aroma']==5) &(df['review_palate']==5)]\n"
   ]
  },
  {
   "cell_type": "code",
   "execution_count": null,
   "metadata": {},
   "outputs": [],
   "source": [
    "#Frank Double IPA\t\n",
    "#Stone Imperial Russian Stout\n",
    "#Pliny The Younger\n",
    "#df.isnull().any(axis=0)\n"
   ]
  },
  {
   "cell_type": "code",
   "execution_count": null,
   "metadata": {},
   "outputs": [],
   "source": [
    "df['beer_abv'].isnull().sum()\n",
    "df.shape\n",
    "df.groupby(['brewery_name']).beer_abv.max()\n",
    "df['brewery_name'].groupby(df['brewery_name']).count()"
   ]
  },
  {
   "cell_type": "code",
   "execution_count": null,
   "metadata": {},
   "outputs": [],
   "source": []
  },
  {
   "cell_type": "code",
   "execution_count": null,
   "metadata": {
    "collapsed": true
   },
   "outputs": [],
   "source": [
    "\n"
   ]
  },
  {
   "cell_type": "code",
   "execution_count": null,
   "metadata": {},
   "outputs": [],
   "source": []
  },
  {
   "cell_type": "code",
   "execution_count": null,
   "metadata": {},
   "outputs": [],
   "source": [
    "\n"
   ]
  },
  {
   "cell_type": "code",
   "execution_count": null,
   "metadata": {},
   "outputs": [],
   "source": []
  },
  {
   "cell_type": "code",
   "execution_count": 119,
   "metadata": {},
   "outputs": [
    {
     "name": "stderr",
     "output_type": "stream",
     "text": [
      "C:\\Users\\Atena\\Anaconda3\\lib\\site-packages\\pandas\\core\\frame.py:2754: SettingWithCopyWarning: \n",
      "A value is trying to be set on a copy of a slice from a DataFrame\n",
      "\n",
      "See the caveats in the documentation: http://pandas.pydata.org/pandas-docs/stable/indexing.html#indexing-view-versus-copy\n",
      "  downcast=downcast, **kwargs)\n"
     ]
    },
    {
     "name": "stdout",
     "output_type": "stream",
     "text": [
      "[ 4.2]\n",
      "[ 0.01496408  0.02038922  0.9247801   0.0398666 ]\n"
     ]
    },
    {
     "data": {
      "text/plain": [
       "0.64364827314185302"
      ]
     },
     "execution_count": 119,
     "metadata": {},
     "output_type": "execute_result"
    }
   ],
   "source": [
    "#3) Which of the factors (aroma, taste, appearance, palette) are most important in determining the overall quality of a beer?\n",
    "\n",
    "# to answer this question ii ran, RandomForest and used the feature_importance function to find out the most important feature,\n",
    "#then i created a new dataframe and  with feature_importance in one column and th efeatures name in another column.\n",
    "#then sorted the datafareme  to find most important features \n",
    "X=df[['review_aroma', 'review_appearance','review_taste', 'beer_abv']]\n",
    "y=df['review_overall']\n",
    "X.fillna(0, inplace=True)\n",
    "y.fillna(0, inplace=True)\n",
    "\n",
    "#y value = overall review\n",
    "#remaining columns \n",
    "\n",
    "from sklearn.cross_validation import train_test_split\n",
    "from sklearn.ensemble import RandomForestRegressor\n",
    "X_train, X_test, y_train, y_test = train_test_split(X, y, test_size=0.25,random_state=42)\n",
    "forest = RandomForestRegressor(n_estimators=5, random_state=2, n_jobs=-1)\n",
    "forest.fit(X_train, y_train)\n",
    "print(forest.predict([[0, 5, 4.3, 0]]))\n",
    "\n",
    "print(forest.feature_importances_)\n",
    "\n",
    "forest.score(X_train,y_train)\n",
    "forest.score(X_test,y_test)"
   ]
  },
  {
   "cell_type": "code",
   "execution_count": 37,
   "metadata": {},
   "outputs": [
    {
     "data": {
      "text/plain": [
       "<bound method RegressorMixin.score of RandomForestRegressor(bootstrap=True, criterion='mse', max_depth=None,\n",
       "           max_features='auto', max_leaf_nodes=None,\n",
       "           min_impurity_decrease=0.0, min_impurity_split=None,\n",
       "           min_samples_leaf=1, min_samples_split=2,\n",
       "           min_weight_fraction_leaf=0.0, n_estimators=5, n_jobs=1,\n",
       "           oob_score=False, random_state=2, verbose=0, warm_start=False)>"
      ]
     },
     "execution_count": 37,
     "metadata": {},
     "output_type": "execute_result"
    }
   ],
   "source": []
  },
  {
   "cell_type": "code",
   "execution_count": 51,
   "metadata": {},
   "outputs": [],
   "source": [
    "importance_df=pd.DataFrame({'importance' : forest.feature_importances_, 'feat\n",
    "                            ures_name':X_train.columns.values})"
   ]
  },
  {
   "cell_type": "code",
   "execution_count": 71,
   "metadata": {},
   "outputs": [
    {
     "data": {
      "text/html": [
       "<div>\n",
       "<style>\n",
       "    .dataframe thead tr:only-child th {\n",
       "        text-align: right;\n",
       "    }\n",
       "\n",
       "    .dataframe thead th {\n",
       "        text-align: left;\n",
       "    }\n",
       "\n",
       "    .dataframe tbody tr th {\n",
       "        vertical-align: top;\n",
       "    }\n",
       "</style>\n",
       "<table border=\"1\" class=\"dataframe\">\n",
       "  <thead>\n",
       "    <tr style=\"text-align: right;\">\n",
       "      <th></th>\n",
       "      <th>features_name</th>\n",
       "      <th>importance</th>\n",
       "    </tr>\n",
       "  </thead>\n",
       "  <tbody>\n",
       "    <tr>\n",
       "      <th>2</th>\n",
       "      <td>review_taste</td>\n",
       "      <td>0.926252</td>\n",
       "    </tr>\n",
       "    <tr>\n",
       "      <th>3</th>\n",
       "      <td>beer_abv</td>\n",
       "      <td>0.038665</td>\n",
       "    </tr>\n",
       "    <tr>\n",
       "      <th>1</th>\n",
       "      <td>review_appearance</td>\n",
       "      <td>0.020168</td>\n",
       "    </tr>\n",
       "    <tr>\n",
       "      <th>0</th>\n",
       "      <td>review_aroma</td>\n",
       "      <td>0.014915</td>\n",
       "    </tr>\n",
       "  </tbody>\n",
       "</table>\n",
       "</div>"
      ],
      "text/plain": [
       "       features_name  importance\n",
       "2       review_taste    0.926252\n",
       "3           beer_abv    0.038665\n",
       "1  review_appearance    0.020168\n",
       "0       review_aroma    0.014915"
      ]
     },
     "execution_count": 71,
     "metadata": {},
     "output_type": "execute_result"
    }
   ],
   "source": [
    "importance_df.sort_values(['importance'], ascending=False)"
   ]
  },
  {
   "cell_type": "code",
   "execution_count": 70,
   "metadata": {},
   "outputs": [
    {
     "data": {
      "text/plain": [
       "0    0.014915\n",
       "1    0.020168\n",
       "2    0.926252\n",
       "3    0.038665\n",
       "Name: importance, dtype: float64"
      ]
     },
     "execution_count": 70,
     "metadata": {},
     "output_type": "execute_result"
    }
   ],
   "source": [
    "importance_df['importance']"
   ]
  },
  {
   "cell_type": "code",
   "execution_count": null,
   "metadata": {},
   "outputs": [],
   "source": []
  },
  {
   "cell_type": "code",
   "execution_count": 115,
   "metadata": {},
   "outputs": [
    {
     "data": {
      "text/html": [
       "<div>\n",
       "<style>\n",
       "    .dataframe thead tr:only-child th {\n",
       "        text-align: right;\n",
       "    }\n",
       "\n",
       "    .dataframe thead th {\n",
       "        text-align: left;\n",
       "    }\n",
       "\n",
       "    .dataframe tbody tr th {\n",
       "        vertical-align: top;\n",
       "    }\n",
       "</style>\n",
       "<table border=\"1\" class=\"dataframe\">\n",
       "  <thead>\n",
       "    <tr>\n",
       "      <th></th>\n",
       "      <th colspan=\"3\" halign=\"left\">review_aroma</th>\n",
       "      <th colspan=\"3\" halign=\"left\">review_appearance</th>\n",
       "      <th>agg_mean</th>\n",
       "    </tr>\n",
       "    <tr>\n",
       "      <th></th>\n",
       "      <th>size</th>\n",
       "      <th>mean</th>\n",
       "      <th>std</th>\n",
       "      <th>size</th>\n",
       "      <th>mean</th>\n",
       "      <th>std</th>\n",
       "      <th></th>\n",
       "    </tr>\n",
       "    <tr>\n",
       "      <th>beer_style</th>\n",
       "      <th></th>\n",
       "      <th></th>\n",
       "      <th></th>\n",
       "      <th></th>\n",
       "      <th></th>\n",
       "      <th></th>\n",
       "      <th></th>\n",
       "    </tr>\n",
       "  </thead>\n",
       "  <tbody>\n",
       "    <tr>\n",
       "      <th>American Double / Imperial Stout</th>\n",
       "      <td>50705.0</td>\n",
       "      <td>4.160665</td>\n",
       "      <td>0.570496</td>\n",
       "      <td>50705.0</td>\n",
       "      <td>4.163633</td>\n",
       "      <td>0.515715</td>\n",
       "      <td>4.162149</td>\n",
       "    </tr>\n",
       "    <tr>\n",
       "      <th>Russian Imperial Stout</th>\n",
       "      <td>54129.0</td>\n",
       "      <td>4.076576</td>\n",
       "      <td>0.542319</td>\n",
       "      <td>54129.0</td>\n",
       "      <td>4.210072</td>\n",
       "      <td>0.508614</td>\n",
       "      <td>4.143324</td>\n",
       "    </tr>\n",
       "    <tr>\n",
       "      <th>Quadrupel (Quad)</th>\n",
       "      <td>18086.0</td>\n",
       "      <td>4.132533</td>\n",
       "      <td>0.544143</td>\n",
       "      <td>18086.0</td>\n",
       "      <td>4.117964</td>\n",
       "      <td>0.514112</td>\n",
       "      <td>4.125249</td>\n",
       "    </tr>\n",
       "    <tr>\n",
       "      <th>American Double / Imperial IPA</th>\n",
       "      <td>85977.0</td>\n",
       "      <td>4.097782</td>\n",
       "      <td>0.568236</td>\n",
       "      <td>85977.0</td>\n",
       "      <td>4.078916</td>\n",
       "      <td>0.469188</td>\n",
       "      <td>4.088349</td>\n",
       "    </tr>\n",
       "    <tr>\n",
       "      <th>Gueuze</th>\n",
       "      <td>6009.0</td>\n",
       "      <td>4.117574</td>\n",
       "      <td>0.560086</td>\n",
       "      <td>6009.0</td>\n",
       "      <td>4.034864</td>\n",
       "      <td>0.499991</td>\n",
       "      <td>4.076219</td>\n",
       "    </tr>\n",
       "  </tbody>\n",
       "</table>\n",
       "</div>"
      ],
      "text/plain": [
       "                                 review_aroma                      \\\n",
       "                                         size      mean       std   \n",
       "beer_style                                                          \n",
       "American Double / Imperial Stout      50705.0  4.160665  0.570496   \n",
       "Russian Imperial Stout                54129.0  4.076576  0.542319   \n",
       "Quadrupel (Quad)                      18086.0  4.132533  0.544143   \n",
       "American Double / Imperial IPA        85977.0  4.097782  0.568236   \n",
       "Gueuze                                 6009.0  4.117574  0.560086   \n",
       "\n",
       "                                 review_appearance                      \\\n",
       "                                              size      mean       std   \n",
       "beer_style                                                               \n",
       "American Double / Imperial Stout           50705.0  4.163633  0.515715   \n",
       "Russian Imperial Stout                     54129.0  4.210072  0.508614   \n",
       "Quadrupel (Quad)                           18086.0  4.117964  0.514112   \n",
       "American Double / Imperial IPA             85977.0  4.078916  0.469188   \n",
       "Gueuze                                      6009.0  4.034864  0.499991   \n",
       "\n",
       "                                  agg_mean  \n",
       "                                            \n",
       "beer_style                                  \n",
       "American Double / Imperial Stout  4.162149  \n",
       "Russian Imperial Stout            4.143324  \n",
       "Quadrupel (Quad)                  4.125249  \n",
       "American Double / Imperial IPA    4.088349  \n",
       "Gueuze                            4.076219  "
      ]
     },
     "execution_count": 115,
     "metadata": {},
     "output_type": "execute_result"
    }
   ],
   "source": [
    "# Question 4 \n",
    "#Lastly, if I typically enjoy a beer due to its aroma and appearance, which beer style should I try?\n",
    "# Grouping by beer_style, and aggregating statistical values\n",
    "beer_style_data=df[df['beer_style']!=0]\n",
    "appearance_aroma = beer_style_data.groupby('beer_style').agg({'review_aroma': [np.size, np.mean, np.std],'review_appearance': [np.size, np.mean, np.std]})\n",
    "appearance_aroma.head(3)\n",
    "\n",
    "# New agg_mean column and sort descending\n",
    "\n",
    "appearance_aroma['agg_mean'] = 0.5 * (appearance_aroma['review_appearance', 'mean'] + appearance_aroma['review_aroma', 'mean'])\n",
    "appearance_aroma.sort_values(('agg_mean'), ascending=False)[:5]\n",
    "#The American Double / Imperial Stout is the recommended beer type, if you like aroma and appearance."
   ]
  },
  {
   "cell_type": "code",
   "execution_count": 114,
   "metadata": {},
   "outputs": [
    {
     "data": {
      "image/png": "[encoded data removed]",
      "text/plain": [
       "<matplotlib.figure.Figure at 0xe8901d2518>"
      ]
     },
     "metadata": {},
     "output_type": "display_data"
    }
   ],
   "source": [
    "\n",
    "\n",
    "from sklearn.linear_model import LinearRegression\n",
    "# Scatter plot with linear regression model\n",
    "X = appearance_aroma['review_appearance', 'mean'].values.reshape(-1, 1)\n",
    "y = appearance_aroma['review_aroma', 'mean'].values\n",
    "regressor = LinearRegression()\n",
    "regressor.fit(X, y)\n",
    "\n",
    "# Plotting the data\n",
    "plt.scatter(X, y, alpha=0.5)\n",
    "plt.title('Beer Styles - Aroma vs Appearance')\n",
    "plt.xlabel('Appearance Review')\n",
    "plt.ylabel('Aroma Review')\n",
    "plt.text(2.1, 4.2, 'r2 = {0:.02f}'.format(regressor.score(X, y)))\n",
    "\n",
    "# Plotting the regression model\n",
    "X_fit = np.linspace(2.5, 4.3, 100)[:, np.newaxis]\n",
    "y_fit = regressor.predict(X_fit)\n",
    "plt.plot(X_fit.squeeze(), y_fit, alpha=0.3);\n",
    "plt.show()\n",
    "\n",
    "\n",
    "\n",
    "\n"
   ]
  },
  {
   "cell_type": "code",
   "execution_count": 93,
   "metadata": {},
   "outputs": [],
   "source": []
  },
  {
   "cell_type": "code",
   "execution_count": null,
   "metadata": {},
   "outputs": [],
   "source": []
  },
  {
   "cell_type": "code",
   "execution_count": null,
   "metadata": {
    "collapsed": true
   },
   "outputs": [],
   "source": []
  }
 ],
 "metadata": {
  "kernelspec": {
   "display_name": "Python 3",
   "language": "python",
   "name": "python3"
  },
  "language_info": {
   "codemirror_mode": {
    "name": "ipython",
    "version": 3
   },
   "file_extension": ".py",
   "mimetype": "text/x-python",
   "name": "python",
   "nbconvert_exporter": "python",
   "pygments_lexer": "ipython3",
   "version": "3.6.3"
  }
 },
 "nbformat": 4,
 "nbformat_minor": 2
}
