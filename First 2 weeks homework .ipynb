{
 "cells": [
  {
   "cell_type": "code",
   "execution_count": 3,
   "metadata": {},
   "outputs": [
    {
     "name": "stdout",
     "output_type": "stream",
     "text": [
      "1-2-3-4\n"
     ]
    }
   ],
   "source": [
    "#example (1234) -->1-2-3-4\n",
    "#(-1234-) -->1-2-3-4\n",
    "def dashatize(num):\n",
    "    if num == None:\n",
    "        return None\n",
    "    if num < 0 :\n",
    "        num=-1*num\n",
    "    dashchar=list(str(num))\n",
    "    \n",
    "    output=[]\n",
    "    for i in dashchar:\n",
    "        if (int(i) % 2) ==1:\n",
    "            output.append(\"-\"+i+\"-\")\n",
    "        else:\n",
    "            output.append(i)\n",
    "\n",
    "    return  \"\".join(output).strip('-').replace('--','-')  \n",
    "\n",
    "print(dashatize(-1234))"
   ]
  },
  {
   "cell_type": "code",
   "execution_count": null,
   "metadata": {
    "collapsed": true
   },
   "outputs": [],
   "source": [
    "print(dashatize(14523))"
   ]
  },
  {
   "cell_type": "code",
   "execution_count": null,
   "metadata": {
    "collapsed": true
   },
   "outputs": [],
   "source": [
    "num1=input(\"enter a number\")\n",
    "digit1=int(num1)\n",
    "print(sum([i for i in range(digit1+1)]))"
   ]
  },
  {
   "cell_type": "code",
   "execution_count": null,
   "metadata": {
    "collapsed": true
   },
   "outputs": [],
   "source": [
    "sum"
   ]
  },
  {
   "cell_type": "code",
   "execution_count": null,
   "metadata": {
    "collapsed": true
   },
   "outputs": [],
   "source": [
    "\n",
    "for a in range(1,7):\n",
    "    for b in range (1, 7):\n",
    "        for c in range(1, 7):\n",
    "            for d in range(1,7):\n",
    "                for e in range(1,7):\n",
    "                    for f in range (1,7):\n",
    "                        lst=[a,b,c,d,e,f] \n",
    "                        if len(lst) == len(set(lst)):\n",
    "                            if ((a+(b-c)*d-e)*f)==75:\n",
    "                                 print (a, b,c , d, e , f)"
   ]
  },
  {
   "cell_type": "code",
   "execution_count": null,
   "metadata": {
    "collapsed": true
   },
   "outputs": [],
   "source": [
    "alphabet='ljdll ihoinln'\n"
   ]
  },
  {
   "cell_type": "code",
   "execution_count": null,
   "metadata": {
    "collapsed": true
   },
   "outputs": [],
   "source": [
    "alphabet."
   ]
  },
  {
   "cell_type": "code",
   "execution_count": null,
   "metadata": {
    "collapsed": true
   },
   "outputs": [],
   "source": []
  },
  {
   "cell_type": "code",
   "execution_count": null,
   "metadata": {
    "collapsed": true
   },
   "outputs": [],
   "source": [
    "##capitalize even index \n",
    "def to_weird_case(string):\n",
    "        \n",
    "    output=[]\n",
    "    lst=string.split(' ')\n",
    "    for word in lst :\n",
    "            newword=\"\"\n",
    "            for i, char in enumerate(word):\n",
    "                if (i % 2) == 0 :\n",
    "                        newword+=char.upper()\n",
    "                else:\n",
    "                        newword+=char.lower()\n",
    "            output.append(newword)           \n",
    "    return \" \".join(output)\n",
    "\n",
    "print(to_weird_case('case by case'))"
   ]
  },
  {
   "cell_type": "code",
   "execution_count": null,
   "metadata": {
    "collapsed": true
   },
   "outputs": [],
   "source": []
  },
  {
   "cell_type": "code",
   "execution_count": null,
   "metadata": {
    "collapsed": true
   },
   "outputs": [],
   "source": [
    "#write a function that return each word in a string backward\n",
    "#example \"ter3 utyh2 1lff\"   --> 3ret 2hytu ffl1\n",
    "def order(sentence):\n",
    "      \n",
    "        output= [\"\" for word in sentence.split()] \n",
    "        lst=sentence.split()\n",
    "        for word in lst :\n",
    "            for char in word:\n",
    "                if char.isdigit():\n",
    "                    output[int(char)-1]=word\n",
    "                    \n",
    "        return \" \".join(output)       \n",
    "                "
   ]
  },
  {
   "cell_type": "code",
   "execution_count": null,
   "metadata": {},
   "outputs": [],
   "source": [
    "order(\"ter3 utyh2 1lff\")"
   ]
  },
  {
   "cell_type": "code",
   "execution_count": null,
   "metadata": {},
   "outputs": [],
   "source": [
    "#\n",
    "def rotation(string1, string2):\n",
    "        count=0\n",
    "        output1=[]\n",
    "        output2=[]\n",
    "        \n",
    "        if string1==string2:\n",
    "            return 0\n",
    "        if (string1==None) or (string2== None) :\n",
    "            return None\n",
    "        if len(string1)!=len(string2):\n",
    "            return -1\n",
    "        while string1 !=string2:\n",
    "                    string1=string1[-1]+string1[:-1]\n",
    "                    count+=1 \n",
    "                    if count == len(string1):\n",
    "                        return -1\n",
    "                    \n",
    "                   \n",
    "        return count\n",
    "print(rotation('god','dog'))\n",
    "print(rotation('god','dog'))"
   ]
  },
  {
   "cell_type": "code",
   "execution_count": null,
   "metadata": {
    "collapsed": true
   },
   "outputs": [],
   "source": [
    "#examplee ['dog', 'cat', 'god', 'dogs', 'dogs', 'nope', 'open' , 'pneo', ]\n",
    "#answer['dog', 'god', 'nope', 'open', 'pneo']\n",
    "\n",
    "# for a list of strings, return all of the strings in that list\n",
    "# which are an anagram of another string in the list\n",
    "#:list_of_string = ['dog', 'cat', 'god', 'dogs', 'dogs', 'nope', 'open']\n",
    "\n",
    "def is_anagram(w1, w2):\n",
    "        if w1==w2 :\n",
    "            return False \n",
    "        elif (len(w1)==len(w2)) and (sorted(w1)==sorted(w2)):\n",
    "            return True\n",
    "\n",
    "   # print(is_anagram('cat','act'))  \n",
    "\n",
    "    \n",
    "def findanagram(listofstrinf)  :  \n",
    "        output=[]        \n",
    "        for word in listofstrinf :\n",
    "            #print(word)\n",
    "            for word2 in listofstrinf:\n",
    "                if word==word2:\n",
    "                    continue \n",
    "                if  is_anagram(word, word2) :\n",
    "                    if  word not in output  : \n",
    "                        output.append(word)\n",
    "                    if  word2 not in output  :   \n",
    "                        output.append(word2)\n",
    "        return output\n",
    "findanagram(['dog', 'cat', 'god', 'dogs', 'dogs', 'nope', 'open', 'nepo'])   "
   ]
  },
  {
   "cell_type": "code",
   "execution_count": null,
   "metadata": {
    "collapsed": true
   },
   "outputs": [],
   "source": [
    "is_anagram('nope', 'nepo')"
   ]
  },
  {
   "cell_type": "code",
   "execution_count": null,
   "metadata": {
    "collapsed": true
   },
   "outputs": [],
   "source": [
    "## multiply two numbers without using the sign *\n",
    "def multiply(x,y):\n",
    "    if (x==0) or (y==0):\n",
    "        return 0\n",
    "    else:\n",
    "        return x+multiply(x, y-1)\n",
    "    "
   ]
  },
  {
   "cell_type": "code",
   "execution_count": null,
   "metadata": {
    "collapsed": true
   },
   "outputs": [],
   "source": [
    "multiply(2,15)"
   ]
  },
  {
   "cell_type": "code",
   "execution_count": null,
   "metadata": {
    "collapsed": true
   },
   "outputs": [],
   "source": [
    "##write a function that return an outlier in a list, among even an odd number is an outlier \n",
    "def outlier(arrayofnumber):\n",
    "    oddeven=[]\n",
    "    for num in arrayofnumber:\n",
    "            if num % 2== 0  :\n",
    "                oddeven.append('e')\n",
    "              \n",
    "            else:    \n",
    "                oddeven.append('o') \n",
    "    if oddeven.count('o')== 1:\n",
    "        for num in arrayofnumber :\n",
    "            if num % 2 != 0:\n",
    "                return num \n",
    "    if oddeven.count('e')==1:\n",
    "        for num in arrayofnumber:\n",
    "            if num%2==0:\n",
    "                return num \n",
    "                \n",
    "            \n",
    "        "
   ]
  },
  {
   "cell_type": "code",
   "execution_count": null,
   "metadata": {
    "collapsed": true
   },
   "outputs": [],
   "source": [
    "outlier([11,13,17,12,33])"
   ]
  },
  {
   "cell_type": "code",
   "execution_count": null,
   "metadata": {
    "collapsed": true
   },
   "outputs": [],
   "source": [
    "## accept a user input from terminal  and Code the sting to A-->B, B-->C Z-->A and decode it\n",
    "def change_string():\n",
    "    string= input(\"enter a string\")\n",
    "    string1=string.lower()\n",
    "    output=[]\n",
    "\n",
    "    for char in string1 :\n",
    "        if ord(char)==122:\n",
    "            char='a'\n",
    "            output.append(chr(ord(char)))\n",
    "        else:\n",
    "            code=ord(char)+1\n",
    "            output.append(chr(code))\n",
    "    return \"\".join(output)   \n",
    " \n",
    "### revert the original text \n",
    "def recall_original():\n",
    "        output1=change_string()\n",
    "        output2=[]  \n",
    "        for char in output1:\n",
    "                if ord(char)==97:\n",
    "                    char='z'\n",
    "                    output2.append(chr(ord(char)))\n",
    "                else:\n",
    "                    code=ord(char)-1\n",
    "                    output2.append(chr(code))\n",
    "        return \"\".join(output2)"
   ]
  },
  {
   "cell_type": "code",
   "execution_count": null,
   "metadata": {
    "collapsed": true
   },
   "outputs": [],
   "source": [
    "recall_original()\n"
   ]
  },
  {
   "cell_type": "code",
   "execution_count": null,
   "metadata": {
    "collapsed": true
   },
   "outputs": [],
   "source": [
    "change_string()"
   ]
  },
  {
   "cell_type": "code",
   "execution_count": null,
   "metadata": {
    "collapsed": true
   },
   "outputs": [],
   "source": [
    "##task 3\n",
    "#write a blog post \n",
    "https://wordpress.com/page/ate217587043.wordpress.com/4"
   ]
  },
  {
   "cell_type": "code",
   "execution_count": null,
   "metadata": {
    "collapsed": true
   },
   "outputs": [],
   "source": [
    "## task 4\n",
    "#import random\n",
    "output=[]\n",
    "\n",
    "read_txt=open(\"file.txt\")\n",
    "newword=read_txt.read()\n",
    "#random.choice(wordfile)\n",
    "newword.strip('\\n')\n",
    "n = len(newword)\n",
    "print(newword)\n",
    "count=0\n",
    "output=[]\n",
    "for i in range(0,n):\n",
    "      output.append(\"_\")\n",
    "print(output)        \n",
    "#letter= input(\"enter a letter\")\n",
    "while count <n:\n",
    "    letter= input(\"enter a letter\")\n",
    "    for i,char in enumerate(newword):\n",
    "        if letter==char :\n",
    "            output[i]=char\n",
    "            print(output)\n",
    "    count+=1       \n",
    "final=\"\".join(output)    \n",
    "print(final)\n",
    "if  final== newword:\n",
    "    print(\"You won\")\n",
    "else:\n",
    "    print(\"Lost the game\")\n",
    "                  \n",
    "       "
   ]
  },
  {
   "cell_type": "code",
   "execution_count": null,
   "metadata": {
    "collapsed": true
   },
   "outputs": [],
   "source": [
    "##task  five \n",
    "import request \n",
    "r=request.get('https://github.com/atenasadeghi')\n",
    "r.status_code"
   ]
  },
  {
   "cell_type": "code",
   "execution_count": null,
   "metadata": {
    "collapsed": true
   },
   "outputs": [],
   "source": []
  },
  {
   "cell_type": "code",
   "execution_count": null,
   "metadata": {
    "collapsed": true
   },
   "outputs": [],
   "source": [
    "##task 6 open a text file and count letters\n",
    "import collections \n",
    "\n",
    "read_txt=open(\"pg345.txt\").read()\n",
    "count=collections.Counter()\n",
    "for a in read_txt:\n",
    "    for letter in a:\n",
    "        count[letter]+=1"
   ]
  },
  {
   "cell_type": "code",
   "execution_count": null,
   "metadata": {},
   "outputs": [],
   "source": [
    "print(count)"
   ]
  },
  {
   "cell_type": "code",
   "execution_count": null,
   "metadata": {
    "collapsed": true
   },
   "outputs": [],
   "source": [
    "##task 4 \n",
    "random.seed(42)\n",
    "import random, string\n",
    "\n",
    "def randomword():\n",
    "    newstring=\"\"\n",
    "    for i in range(0,27):\n",
    "        letters = string.ascii_lowercase\n",
    "        letternew=letters+\" \"\n",
    "        newstring+=random.choice(letternew)\n",
    "\n",
    "    return newstring\n",
    "def score():\n",
    "    tried=0\n",
    "    win=0\n",
    "    randomstring=randomword()\n",
    "    target=input(\"enter a sentence\")\n",
    "    if target==randomstring :\n",
    "        win+=1\n",
    "    else:\n",
    "        tried+=1\n",
    "    return win, tried\n",
    "    \n",
    "#def main():\n",
    "    \n",
    "    \n",
    "    \n",
    "    \n",
    " "
   ]
  },
  {
   "cell_type": "code",
   "execution_count": null,
   "metadata": {},
   "outputs": [],
   "source": [
    "score()"
   ]
  },
  {
   "cell_type": "code",
   "execution_count": null,
   "metadata": {},
   "outputs": [],
   "source": [
    "type(letters)"
   ]
  },
  {
   "cell_type": "code",
   "execution_count": null,
   "metadata": {
    "collapsed": true
   },
   "outputs": [],
   "source": [
    "def calculator(a,b, operator):\n",
    "    if type(a) is int and type(b) is int :\n",
    "        if operator=='+':\n",
    "            add= a+b\n",
    "            return add\n",
    "        if operator=='-':\n",
    "            sub=a-b\n",
    "            return sub\n",
    "        if operator=='*':\n",
    "            multi=a*b\n",
    "            return multi\n",
    "        if b==0:\n",
    "            return \"not possible b==0\"\n",
    "        elif operator=='/':\n",
    "            div=a/b\n",
    "            return div\n",
    "    else :\n",
    "        return \"wrong input\""
   ]
  },
  {
   "cell_type": "code",
   "execution_count": null,
   "metadata": {},
   "outputs": [],
   "source": [
    "calculator('trt',0,'/')"
   ]
  },
  {
   "cell_type": "code",
   "execution_count": null,
   "metadata": {},
   "outputs": [],
   "source": [
    "winner()"
   ]
  },
  {
   "cell_type": "markdown",
   "metadata": {},
   "source": []
  },
  {
   "cell_type": "code",
   "execution_count": null,
   "metadata": {
    "collapsed": true
   },
   "outputs": [],
   "source": [
    "median2=MeanOfList([1,2,3,4,5])"
   ]
  },
  {
   "cell_type": "code",
   "execution_count": null,
   "metadata": {
    "collapsed": true
   },
   "outputs": [],
   "source": [
    "\n",
    "def findstat(lst):\n",
    "        min_list = min(lst)\n",
    "        max_list = max(lst)\n",
    "        total = sum(lst)\n",
    "        length = len(lst)\n",
    "        #mean\n",
    "        mean_val = total / length\n",
    "        #return mean_val\n",
    "\n",
    "        #Median\n",
    "        sortedlist=sorted(lst)\n",
    "\n",
    "        n = len(lst)\n",
    "        mid=len(lst)// 2\n",
    "\n",
    "        if n % 2 == 0:  # take the avg of middle two\n",
    "                median= (sortedlist[mid-1] + sortedlist[mid]) / 2\n",
    "        else:\n",
    "                median= sortedlist[mid]\n",
    "        ##mode is the number that occured more \n",
    "        finalcount=[]\n",
    "        finalnum=[]\n",
    "        for value in lst:\n",
    "            count=0\n",
    "            for num in lst:\n",
    "                if value==num:\n",
    "                    count+=1\n",
    "                else:\n",
    "                    count=0\n",
    "            finalcount.append(count)\n",
    "            finalnum.append(num)\n",
    "\n",
    "            mode=(max(finalcount))    \n",
    "            nummode=(finalnum[0])\n",
    "\n",
    "    \n",
    "        return  min_list, max_list, mean_val, median, nummode,mode"
   ]
  },
  {
   "cell_type": "code",
   "execution_count": null,
   "metadata": {},
   "outputs": [],
   "source": [
    "findstat([1,2,3,4,5,6,6,6])"
   ]
  },
  {
   "cell_type": "code",
   "execution_count": 4,
   "metadata": {},
   "outputs": [
    {
     "name": "stdout",
     "output_type": "stream",
     "text": [
      "4\n",
      "5\n"
     ]
    }
   ],
   "source": [
    "lst=[5,5,5,5]\n",
    "finalcount=[]\n",
    "finalnum=[]\n",
    "for value in lst:\n",
    "    count=0\n",
    "    for num in lst:\n",
    "        if value==num:\n",
    "            count+=1\n",
    "        else:\n",
    "            count=0\n",
    "    finalcount.append(count)\n",
    "    finalnum.append(num)\n",
    "    \n",
    "print(max(finalcount))    \n",
    "print(finalnum[0])\n",
    "    "
   ]
  },
  {
   "cell_type": "code",
   "execution_count": null,
   "metadata": {
    "collapsed": true
   },
   "outputs": [],
   "source": []
  }
 ],
 "metadata": {
  "kernelspec": {
   "display_name": "Python 3",
   "language": "python",
   "name": "python3"
  },
  "language_info": {
   "codemirror_mode": {
    "name": "ipython",
    "version": 3
   },
   "file_extension": ".py",
   "mimetype": "text/x-python",
   "name": "python",
   "nbconvert_exporter": "python",
   "pygments_lexer": "ipython3",
   "version": "3.6.3"
  }
 },
 "nbformat": 4,
 "nbformat_minor": 2
}
