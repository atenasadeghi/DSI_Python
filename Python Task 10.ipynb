{
 "cells": [
  {
   "cell_type": "code",
   "execution_count": null,
   "metadata": {
    "collapsed": true
   },
   "outputs": [],
   "source": [
    "\n",
    "def max_lists(list1, list2):\n",
    "    \"\"\"\n",
    "    list1 and list2 have the same length.\n",
    "    Return a list which contains, for each index,\n",
    "    the maximum element of both list at this index.\n",
    "\n",
    "    Parameters\n",
    "    ----------\n",
    "    \n",
    "    list1 : {list} of numeric values\n",
    "    list2 : {list} of numeric values\n",
    "\n",
    "   Returns\n",
    "    -------\n",
    "    {list} : list of maximum values for each index of list1,list2\n",
    "\n",
    "    Example\n",
    "    -------\n",
    "    >>> max_lists([1, 4, 8], [3, 1, 9])\n",
    "    [3, 4, 9]\n",
    "    >>> max_lists([5, 7, 2, 3, 6], [3, 9, 1, 2, 8])\n",
    "    [5, 9, 2, 3, 8]\n",
    "    \"\"\"\n",
    "    print(list1)\n",
    "    print(list2)\n",
    "    print(len(list1)-1)\n",
    "    output=[]\n",
    "    for num in range (0,len(list1)):\n",
    "        if list1[num]>list2[num]:\n",
    "            output.append(list1[num])\n",
    "        elif list2[num]>list1[num]:\n",
    "            output.append(list2[num])\n",
    "#         else:\n",
    "#             output.append(list1[num])\n",
    "    return output"
   ]
  },
  {
   "cell_type": "code",
   "execution_count": null,
   "metadata": {
    "collapsed": true
   },
   "outputs": [],
   "source": [
    "def diag_matrix(mat):\n",
    "    #mat = [[19,1, 2,3], [4,12, 4,8], [12,8,7, 6]]\n",
    "    #print(len(mat))\n",
    "    output=[]\n",
    "    if len(mat)==len(mat[0]):\n",
    "        for i in range(len(mat)):\n",
    "            output.append(mat[i][i])\n",
    "    else:\n",
    "        col_count=0\n",
    "        for i in range(0,len(mat)):\n",
    "            if i==col_count:\n",
    "                output.append(mat[i][col_count])\n",
    "                col_count+=1\n",
    "                if col_count==len(mat):\n",
    "                    break\n",
    "    print(output)            "
   ]
  },
  {
   "cell_type": "code",
   "execution_count": 1,
   "metadata": {
    "collapsed": true
   },
   "outputs": [],
   "source": [
    "# def merge_dictionaries(d1, d2):\n",
    "#     \"\"\"\n",
    "#     Return a new dictionary which contains all the keys from d1 and d2 with\n",
    "#     their associated values. If a key is in both dictionaries, the value should\n",
    "#     be the sum of the two values.\n",
    "\n",
    "#     Parameters\n",
    "#     ----------\n",
    "#     d1 : {dict}\n",
    "#     d2 : {dict}\n",
    "\n",
    "#     Returns\n",
    "#     -------\n",
    "#     {dict} : values in the diagonal\n",
    "\n",
    "#     Example\n",
    "#     -------\n",
    "#     >>> d1 = {\"a\": 1, \"b\": 5, \"c\": 1, \"e\": 8}\n",
    "#     >>> d2 = {\"b\": 2, \"c\": 5, \"d\": 10, \"f\": 6}\n",
    "#     >>> merge_dictionaries(d1,d2) == {\"a\": 1, \"b\": 7, \"c\": 6, \"d\": 10, \"e\": 8, \"f\": 6}\n",
    "#     True\n",
    "#     \"\"\"\n",
    "#     pass\n",
    "def merge_dictionaries(d1, d2):\n",
    "    from collections import Counter \n",
    "    import operator\n",
    "    A=Counter(d1)\n",
    "    B=Counter(d2)\n",
    "    print(A+B)"
   ]
  },
  {
   "cell_type": "code",
   "execution_count": 2,
   "metadata": {},
   "outputs": [
    {
     "name": "stdout",
     "output_type": "stream",
     "text": [
      "['today\\n', 'saturday\\n', 'sunday\\n', 'python\\n', 'is\\n', 'everyday']\n",
      "0 t\n",
      "1 s\n",
      "2 s\n",
      "3 p\n",
      "4 i\n",
      "5 e\n",
      "{'t': [0], 's': [1, 2], 'p': [3], 'i': [4], 'e': [5]}\n"
     ]
    }
   ],
   "source": [
    "   \"\"\"\n",
    "    Given a file containing rows of text, create a dictionary with keys\n",
    "    of single characters. The value is a list of all the line numbers which\n",
    "    start with that letter. The first line should have line number 1.\n",
    "    Characters which never are the first letter of a line do not need to be\n",
    "    included in your dictionary.\n",
    "\n",
    "    Parameters\n",
    "    ----------\n",
    "    filename : {string} indicating path to file\n",
    "\n",
    "    Returns\n",
    "    -------\n",
    "    {dict} : keys are {str} and values are {list}\n",
    "\n",
    "    Example\n",
    "    -------\n",
    "    >>> result = make_char_dict('data/people.txt')\n",
    "    >>> result['j']\n",
    "    [2, 19, 20]\n",
    "    >>> result['g']\n",
    "    [3]\"\"\"\n",
    "lines=[]\n",
    "count=0\n",
    "with open('file.txt') as f:\n",
    "    for line in f:\n",
    "        line = str(line)\n",
    "        lines.append(line)\n",
    "        #print(x)\n",
    "print(lines)        \n",
    "first_letter = dict()\n",
    "for r,v in enumerate(lines):\n",
    "    print(r,v[0])\n",
    "    if v[0] not in first_letter:\n",
    "        first_letter[v[0]] = []\n",
    "        first_letter[v[0]].append(r)\n",
    "    else:\n",
    "        first_letter[v[0]].append(r)\n",
    "print(first_letter)\n",
    "\n",
    "  \n",
    "    \n",
    "        \n",
    "\n",
    "\n"
   ]
  },
  {
   "cell_type": "code",
   "execution_count": null,
   "metadata": {
    "collapsed": true
   },
   "outputs": [],
   "source": []
  }
 ],
 "metadata": {
  "kernelspec": {
   "display_name": "Python 3",
   "language": "python",
   "name": "python3"
  },
  "language_info": {
   "codemirror_mode": {
    "name": "ipython",
    "version": 3
   },
   "file_extension": ".py",
   "mimetype": "text/x-python",
   "name": "python",
   "nbconvert_exporter": "python",
   "pygments_lexer": "ipython3",
   "version": "3.6.3"
  }
 },
 "nbformat": 4,
 "nbformat_minor": 2
}
