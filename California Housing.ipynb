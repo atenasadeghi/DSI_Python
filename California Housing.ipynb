{
 "cells": [
  {
   "cell_type": "code",
   "execution_count": 1,
   "metadata": {},
   "outputs": [
    {
     "data": {
      "text/html": [
       "<div>\n",
       "<style>\n",
       "    .dataframe thead tr:only-child th {\n",
       "        text-align: right;\n",
       "    }\n",
       "\n",
       "    .dataframe thead th {\n",
       "        text-align: left;\n",
       "    }\n",
       "\n",
       "    .dataframe tbody tr th {\n",
       "        vertical-align: top;\n",
       "    }\n",
       "</style>\n",
       "<table border=\"1\" class=\"dataframe\">\n",
       "  <thead>\n",
       "    <tr style=\"text-align: right;\">\n",
       "      <th></th>\n",
       "      <th>longitude</th>\n",
       "      <th>latitude</th>\n",
       "      <th>housing_median_age</th>\n",
       "      <th>total_rooms</th>\n",
       "      <th>total_bedrooms</th>\n",
       "      <th>population</th>\n",
       "      <th>households</th>\n",
       "      <th>median_income</th>\n",
       "      <th>median_house_value</th>\n",
       "      <th>ocean_proximity</th>\n",
       "    </tr>\n",
       "  </thead>\n",
       "  <tbody>\n",
       "    <tr>\n",
       "      <th>0</th>\n",
       "      <td>-122.23</td>\n",
       "      <td>37.88</td>\n",
       "      <td>41.0</td>\n",
       "      <td>880.0</td>\n",
       "      <td>129.0</td>\n",
       "      <td>322.0</td>\n",
       "      <td>126.0</td>\n",
       "      <td>8.3252</td>\n",
       "      <td>452600.0</td>\n",
       "      <td>NEAR BAY</td>\n",
       "    </tr>\n",
       "    <tr>\n",
       "      <th>1</th>\n",
       "      <td>-122.22</td>\n",
       "      <td>37.86</td>\n",
       "      <td>21.0</td>\n",
       "      <td>7099.0</td>\n",
       "      <td>1106.0</td>\n",
       "      <td>2401.0</td>\n",
       "      <td>1138.0</td>\n",
       "      <td>8.3014</td>\n",
       "      <td>358500.0</td>\n",
       "      <td>NEAR BAY</td>\n",
       "    </tr>\n",
       "    <tr>\n",
       "      <th>2</th>\n",
       "      <td>-122.24</td>\n",
       "      <td>37.85</td>\n",
       "      <td>52.0</td>\n",
       "      <td>1467.0</td>\n",
       "      <td>190.0</td>\n",
       "      <td>496.0</td>\n",
       "      <td>177.0</td>\n",
       "      <td>7.2574</td>\n",
       "      <td>352100.0</td>\n",
       "      <td>NEAR BAY</td>\n",
       "    </tr>\n",
       "    <tr>\n",
       "      <th>3</th>\n",
       "      <td>-122.25</td>\n",
       "      <td>37.85</td>\n",
       "      <td>52.0</td>\n",
       "      <td>1274.0</td>\n",
       "      <td>235.0</td>\n",
       "      <td>558.0</td>\n",
       "      <td>219.0</td>\n",
       "      <td>5.6431</td>\n",
       "      <td>341300.0</td>\n",
       "      <td>NEAR BAY</td>\n",
       "    </tr>\n",
       "    <tr>\n",
       "      <th>4</th>\n",
       "      <td>-122.25</td>\n",
       "      <td>37.85</td>\n",
       "      <td>52.0</td>\n",
       "      <td>1627.0</td>\n",
       "      <td>280.0</td>\n",
       "      <td>565.0</td>\n",
       "      <td>259.0</td>\n",
       "      <td>3.8462</td>\n",
       "      <td>342200.0</td>\n",
       "      <td>NEAR BAY</td>\n",
       "    </tr>\n",
       "  </tbody>\n",
       "</table>\n",
       "</div>"
      ],
      "text/plain": [
       "   longitude  latitude  housing_median_age  total_rooms  total_bedrooms  \\\n",
       "0    -122.23     37.88                41.0        880.0           129.0   \n",
       "1    -122.22     37.86                21.0       7099.0          1106.0   \n",
       "2    -122.24     37.85                52.0       1467.0           190.0   \n",
       "3    -122.25     37.85                52.0       1274.0           235.0   \n",
       "4    -122.25     37.85                52.0       1627.0           280.0   \n",
       "\n",
       "   population  households  median_income  median_house_value ocean_proximity  \n",
       "0       322.0       126.0         8.3252            452600.0        NEAR BAY  \n",
       "1      2401.0      1138.0         8.3014            358500.0        NEAR BAY  \n",
       "2       496.0       177.0         7.2574            352100.0        NEAR BAY  \n",
       "3       558.0       219.0         5.6431            341300.0        NEAR BAY  \n",
       "4       565.0       259.0         3.8462            342200.0        NEAR BAY  "
      ]
     },
     "execution_count": 1,
     "metadata": {},
     "output_type": "execute_result"
    }
   ],
   "source": [
    "import os\n",
    "import tarfile\n",
    "from six.moves import urllib\n",
    "import pandas as pd\n",
    "DOWNLOAD_ROOT = \"https://raw.githubusercontent.com/ageron/handson-ml/master/\"\n",
    "HOUSING_PATH = os.path.join(\"datasets\", \"housing\")\n",
    "HOUSING_URL = DOWNLOAD_ROOT + \"datasets/housing/housing.tgz\"\n",
    "def fetch_housing_data(housing_url=HOUSING_URL, housing_path=HOUSING_PATH):\n",
    "    if not os.path.isdir(housing_path):\n",
    "        os.makedirs(housing_path)\n",
    "    tgz_path = os.path.join(housing_path, \"housing.tgz\")\n",
    "    urllib.request.urlretrieve(housing_url, tgz_path)\n",
    "    housing_tgz = tarfile.open(tgz_path)\n",
    "    housing_tgz.extractall(path=housing_path)\n",
    "    housing_tgz.close()\n",
    "    \n",
    "def load_housing_data(housing_path=HOUSING_PATH):\n",
    "    csv_path = os.path.join(housing_path, \"housing.csv\")\n",
    "    return pd.read_csv(csv_path)\n",
    "fetch_housing_data()\n",
    "housing = load_housing_data()\n",
    "housing.head()\n"
   ]
  },
  {
   "cell_type": "code",
   "execution_count": null,
   "metadata": {},
   "outputs": [],
   "source": [
    "housing.columns"
   ]
  },
  {
   "cell_type": "code",
   "execution_count": 4,
   "metadata": {},
   "outputs": [
    {
     "data": {
      "text/plain": [
       "ocean_proximity\n",
       "<1H OCEAN     9136\n",
       "INLAND        6551\n",
       "ISLAND           5\n",
       "NEAR BAY      2290\n",
       "NEAR OCEAN    2658\n",
       "Name: housing_median_age, dtype: int64"
      ]
     },
     "execution_count": 4,
     "metadata": {},
     "output_type": "execute_result"
    }
   ],
   "source": [
    "housing.groupby(['ocean_proximity']).housing_median_age.count()"
   ]
  },
  {
   "cell_type": "code",
   "execution_count": null,
   "metadata": {},
   "outputs": [],
   "source": [
    "housing.describe()"
   ]
  },
  {
   "cell_type": "code",
   "execution_count": null,
   "metadata": {},
   "outputs": [],
   "source": [
    "housing.info()"
   ]
  },
  {
   "cell_type": "code",
   "execution_count": 5,
   "metadata": {},
   "outputs": [
    {
     "data": {
      "text/plain": [
       "longitude             False\n",
       "latitude              False\n",
       "housing_median_age    False\n",
       "total_rooms           False\n",
       "total_bedrooms         True\n",
       "population            False\n",
       "households            False\n",
       "median_income         False\n",
       "median_house_value    False\n",
       "ocean_proximity       False\n",
       "dtype: bool"
      ]
     },
     "execution_count": 5,
     "metadata": {},
     "output_type": "execute_result"
    }
   ],
   "source": [
    "housing.isnull().any(axis=0)"
   ]
  },
  {
   "cell_type": "code",
   "execution_count": null,
   "metadata": {},
   "outputs": [],
   "source": [
    "housing.shape   # 207 missin values in CA housing "
   ]
  },
  {
   "cell_type": "code",
   "execution_count": null,
   "metadata": {},
   "outputs": [],
   "source": [
    "\n"
   ]
  },
  {
   "cell_type": "code",
   "execution_count": null,
   "metadata": {},
   "outputs": [],
   "source": [
    "data_dummies.shape"
   ]
  },
  {
   "cell_type": "code",
   "execution_count": null,
   "metadata": {},
   "outputs": [],
   "source": [
    "data_dummies['total_bedrooms'].isnull().sum()\n"
   ]
  },
  {
   "cell_type": "code",
   "execution_count": null,
   "metadata": {},
   "outputs": [],
   "source": [
    "data_dummies.columns\n",
    "\n",
    "#fill Na with 0\n",
    "#X = data.iloc[:, [0,3,4,7,13]].values\n"
   ]
  },
  {
   "cell_type": "code",
   "execution_count": 6,
   "metadata": {
    "collapsed": true
   },
   "outputs": [],
   "source": [
    "X=data_dummies[['longitude', 'latitude', 'housing_median_age', 'total_rooms','total_bedrooms', 'population',\n",
    "               'households', 'median_income','ocean_proximity_INLAND','ocean_proximity_ISLAND', 'ocean_proximity_NEAR BAY']]\n",
    "y=data_dummies['median_house_value']"
   ]
  },
  {
   "cell_type": "code",
   "execution_count": 7,
   "metadata": {},
   "outputs": [
    {
     "name": "stderr",
     "output_type": "stream",
     "text": [
      "C:\\Users\\Atena\\Anaconda3\\lib\\site-packages\\pandas\\core\\frame.py:2754: SettingWithCopyWarning: \n",
      "A value is trying to be set on a copy of a slice from a DataFrame\n",
      "\n",
      "See the caveats in the documentation: http://pandas.pydata.org/pandas-docs/stable/indexing.html#indexing-view-versus-copy\n",
      "  downcast=downcast, **kwargs)\n"
     ]
    }
   ],
   "source": [
    "X.fillna(0, inplace=True)"
   ]
  },
  {
   "cell_type": "code",
   "execution_count": 8,
   "metadata": {},
   "outputs": [
    {
     "data": {
      "text/plain": [
       "longitude                   False\n",
       "latitude                    False\n",
       "housing_median_age          False\n",
       "total_rooms                 False\n",
       "total_bedrooms              False\n",
       "population                  False\n",
       "households                  False\n",
       "median_income               False\n",
       "ocean_proximity_INLAND      False\n",
       "ocean_proximity_ISLAND      False\n",
       "ocean_proximity_NEAR BAY    False\n",
       "dtype: bool"
      ]
     },
     "execution_count": 8,
     "metadata": {},
     "output_type": "execute_result"
    }
   ],
   "source": [
    "X.isnull().any(axis=0)"
   ]
  },
  {
   "cell_type": "code",
   "execution_count": 9,
   "metadata": {},
   "outputs": [],
   "source": [
    "from sklearn.cross_validation import train_test_split\n",
    "X_train, X_test, y_train, y_test = train_test_split(X, y, test_size=0.30,random_state=42)\n",
    "##feature scaling \n",
    "from sklearn.preprocessing import StandardScaler\n",
    "sc_X = StandardScaler()\n",
    "X_train = sc_X.fit_transform(X_train)\n",
    "X_test = sc_X.transform(X_test)"
   ]
  },
  {
   "cell_type": "code",
   "execution_count": 14,
   "metadata": {},
   "outputs": [],
   "source": [
    "\n",
    "# sc_y = StandardScaler()\n",
    "# y_train = sc_y.fit_transform(y_train)\n",
    "# y_test=sc_y.fit_transform(y_test)\n"
   ]
  },
  {
   "cell_type": "code",
   "execution_count": null,
   "metadata": {},
   "outputs": [],
   "source": [
    "# ##i  want to run a model with linear regression and see the error terms\n",
    "# import matplotlib.pyplot as plt\n",
    "# import numpy as np\n",
    "# from sklearn import  linear_model\n",
    "# from sklearn.metrics import mean_squared_error, r2_score\n",
    "# # Create linear regression object\n",
    "# regressor = linear_model.LinearRegression()\n",
    "\n",
    "# # Train the model using the training sets\n",
    "# regressor.fit(X_train, y_train)\n",
    "\n",
    "# # Make predictions using the testing set\n",
    "# y_pred = regressor.predict(X_test)\n",
    "\n",
    "# # The coefficients\n",
    "# print('Coefficients: \\n', regressor.coef_)\n",
    "# # The mean squared error\n",
    "# print(\"Mean squared error: %.2f\"\n",
    "#       % mean_squared_error(y_test, y_pred))\n",
    "# # Explained variance score: 1 is perfect prediction\n",
    "# print('Variance score: %.2f' % r2_score(y_test, y_pred))\n",
    "# regressor.score(X_train,y_train)  ##  0.64665298256379455   quite bad under fitting\n",
    "# regressor.score(X_test,y_test)  ##  0.63226680319605766\n",
    "                            "
   ]
  },
  {
   "cell_type": "code",
   "execution_count": null,
   "metadata": {},
   "outputs": [],
   "source": [
    "# from sklearn.tree import DecisionTreeRegressor\n",
    "# from sklearn.linear_model import LinearRegression\n",
    "# from sklearn.model_selection import cross_val_score\n",
    "# from sklearn.ensemble import AdaBoostRegressor\n",
    "# from sklearn.ensemble import AdaBoostRegressor\n",
    "\n",
    "\n",
    "\n",
    "# tree = DecisionTreeRegressor().fit(X_train, y_train)\n",
    "# linear_reg = LinearRegression().fit(X_train, y_train)\n",
    "# tree.score(X_train, y_train)\n",
    "# tree.fit(X_train, (y_train))\n",
    "# scores = cross_val_score(tree, X_train,np.log(y_train))\n",
    "# scores.mean()\n",
    "# print(tree.score(X_train,np.log(y_train)))\n",
    "# print(\"Test set R^2 Decision tree: {:.2f}\".format(tree.score(X_test, y_test)))\n",
    "# #Addaboost\n",
    "# #addaboost to Decision tree\n",
    "\n",
    "# clfboost = AdaBoostRegressor(DecisionTreeRegressor(max_depth=2),n_estimators=100, learning_rate=1)\n",
    "# clfboost.fit(X_train, y_train)\n",
    "# print(\"Training set score boost: {:.2f}\".format(clfboost.score(X_train, y_train)))\n",
    "# print(\"Training set score  boost: {:.2f}\".format(clfboost.score(X_test, y_test)))\n",
    "# boost_pred=clfboost.predict(X_test)\n",
    "\n",
    "# linear_reg = LinearRegression().fit(X_train, y_train)\n",
    "\n",
    "\n",
    "# print(\"lr.coef_: {}\".format(linear_reg.coef_))\n",
    "# print(\"lr.intercept_: {}\".format(linear_reg.intercept_))\n",
    "# print(\"Training set score LR: {:.2f}\".format(linear_reg.score(X_train, y_train)))\n",
    "# print(\"Test set score  LR : {:.2f}\".format(linear_reg.score(X_test, y_test)))\n",
    "\n",
    "# print(\"Training set score  R^2 DT: {:.2f}\".format(tree.score(X_train, y_train)))\n",
    "# print(\"Test set score DT R^2 : {:.2f}\".format(tree.score(X_test, y_test)))\n",
    "\n",
    "\n",
    "\n",
    "\n"
   ]
  },
  {
   "cell_type": "code",
   "execution_count": null,
   "metadata": {},
   "outputs": [],
   "source": [
    "# from sklearn.ensemble import RandomForestRegressor\n",
    "# #forest = RandomForestRegressor(n_estimators=99, random_state=42, n_jobs=-1)\n",
    "# #forest.fit(X_train, np.log(y_train))\n",
    "# #y_pred=forest.predict(X_test)\n",
    "# #print(forest.feature_importances_)\n",
    "# #forest.score(X_train,np.log(y_train))#  0.97366914519019843\n",
    "# #forest.score(X_test,np.log(y_test))#0.83300797423108563\n",
    "\n",
    "\n",
    "# #gridsearch to find bets parameters and Cross validation to get the best score for generalization \n",
    "# from sklearn.grid_search import GridSearchCV\n",
    "# X_trainval, X_test, y_trainval,y_test=train_test_split(X, y, test_size=0.35,random_state=42)\n",
    "# X_train, X_valid, y_train,y_valid=train_test_split(X_trainval, y_trainval, test_size=0.35,random_state=42)\n",
    "\n",
    "# print(\"size of training set:{}   size of validation set:{}   size of test set:\" \"{}\\n\".format(X_train.shape[0], X_valid.shape[0],X_test.shape[0]))\n",
    "\n",
    "# param_grid = { \n",
    "#     'n_estimators': [200, 700],\n",
    "#     'max_features': ['auto', 'sqrt', 'log2']\n",
    "# }\n",
    "# clf = GridSearchCV(RandomForestRegressor(), param_grid, cv=5, n_jobs=-1, verbose=1)\n",
    "# clf.fit(X_train, y_train)\n",
    "# score=clf.score(X_valid, y_valid)\n",
    "\n",
    "# print(score)\n"
   ]
  },
  {
   "cell_type": "code",
   "execution_count": null,
   "metadata": {},
   "outputs": [
    {
     "name": "stdout",
     "output_type": "stream",
     "text": [
      "test score0.8143283281172156\n",
      "train score 0.9747692699756445\n",
      "0.813086656913\n",
      "0.0201838737997\n"
     ]
    }
   ],
   "source": [
    "from sklearn.ensemble import RandomForestRegressor\n",
    "forest = RandomForestRegressor(n_estimators=100, n_jobs=-1 )\n",
    "forest.fit(X_train, y_train)\n",
    "print('test score{}'.format(forest.score(X_test,y_test)))\n",
    "print('train score {}'.format(forest.score(X_train,y_train)))\n",
    "#kfold \n",
    "from sklearn.model_selection import cross_val_score\n",
    "accuracies=cross_val_score(estimator=forest, X=X_train, y=y_train, cv=10)\n",
    "print(accuracies.mean())\n",
    "print(accuracies.std())\n",
    "#grid search\n",
    "from sklearn.grid_search import GridSearchCV\n",
    "parameters=[{'n_estimators':[90 ,100,120,180], 'max_depth':[1,2,3] , 'max_features':['auto','sqrt','log2']}]\n",
    "gridsearch = GridSearchCV(estimator=forest   ,param_grid=parameters, cv=10, n_jobs=-1)\n",
    "gridsearch=gridsearch.fit(X_train, y_train)\n",
    "best_accuracy_forest=gridsearch.best_score_\n",
    "best_parameter_forest=gridsearch.best_params_\n",
    "print( 'grid search score {}'.format(gridsearch.score(X_test,y_test)))\n"
   ]
  },
  {
   "cell_type": "code",
   "execution_count": null,
   "metadata": {},
   "outputs": [],
   "source": [
    "print('best accuracy with random forest gridsearch {}'.format(gridsearch.best_score_))\n",
    "print('best parameter with random forest gridsearch {}'.format(gridsearch.best_params_))\n"
   ]
  },
  {
   "cell_type": "code",
   "execution_count": null,
   "metadata": {},
   "outputs": [],
   "source": [
    "np.log(y_pred)"
   ]
  },
  {
   "cell_type": "code",
   "execution_count": null,
   "metadata": {},
   "outputs": [],
   "source": []
  },
  {
   "cell_type": "code",
   "execution_count": null,
   "metadata": {},
   "outputs": [],
   "source": [
    "print(best_accuracy_forest)"
   ]
  },
  {
   "cell_type": "code",
   "execution_count": null,
   "metadata": {},
   "outputs": [],
   "source": [
    "print(best_parameter_forest)"
   ]
  },
  {
   "cell_type": "code",
   "execution_count": null,
   "metadata": {},
   "outputs": [],
   "source": [
    "print(gridsearch.score(X_train, y_train))"
   ]
  },
  {
   "cell_type": "code",
   "execution_count": null,
   "metadata": {},
   "outputs": [],
   "source": [
    "# X_train, X_test, y_train, y_test = train_test_split(X, y,random_state=42)\n",
    "# from sklearn.neighbors import KNeighborsRegressor\n",
    "\n",
    "# # instantiate the model and set the number of neighbors to consider to 3:\n",
    "# regressorKNN = KNeighborsRegressor()\n",
    "# # fit the model using the training data and training targets:\n",
    "# regressorKNN.fit(X_train, y_train)\n",
    "# regressorKNN.score(X_test,y_test)#0.14842171151589068\n",
    "# regressorKNN.score(X_train,y_train)  ##0.60138713702971902\n",
    "\n",
    "\n",
    "# #print(\"Test set predictions:\\n{}\".format(regressorKNN.predict(X_test)))\n",
    "# #print(\"Test set R^2: {:.2f}\".format(regressorKNN.score(X_test, y_test)))\n",
    "\n",
    "\n",
    "# #kfold \n",
    "# from sklearn.model_selection import cross_val_score\n",
    "# accuracies=cross_val_score(estimator=regressorKNN, X=X_train, y=y_train, cv=10)\n",
    "# accuracies.mean()\n",
    "# accuracies.std()\n",
    "\n",
    "\n",
    "# #grid search\n",
    "# from sklearn.grid_search import GridSearchCV\n",
    "# parameters=[{'n_neighbors':[1,2,3,4,5,6] , 'weights':['uniform','distance'],'algorithm' : ['auto', 'ball_tree', 'kd_tree', 'brute']}]\n",
    "# gridsearch = GridSearchCV(estimator=regressorKNN   ,param_grid=parameters, cv=10, n_jobs=-1)\n",
    "# gridsearch=gridsearch.fit(X_train, y_train)\n",
    "# best_accuracy=gridsearch.best_score_\n",
    "# best_parameter=gridsearch.best_params_\n",
    "\n",
    "\n"
   ]
  },
  {
   "cell_type": "code",
   "execution_count": null,
   "metadata": {},
   "outputs": [],
   "source": [
    "#the best Score is showing by RandomForest so we will use random forest for predicting the house price \n",
    "#model evaluation by  cross validation  and grid search to choose  best parameters"
   ]
  },
  {
   "cell_type": "code",
   "execution_count": null,
   "metadata": {},
   "outputs": [],
   "source": [
    "print(best_accuracy)"
   ]
  },
  {
   "cell_type": "code",
   "execution_count": null,
   "metadata": {},
   "outputs": [],
   "source": [
    "print(best_parameter)"
   ]
  },
  {
   "cell_type": "code",
   "execution_count": null,
   "metadata": {
    "collapsed": true
   },
   "outputs": [],
   "source": []
  }
 ],
 "metadata": {
  "kernelspec": {
   "display_name": "Python 3",
   "language": "python",
   "name": "python3"
  },
  "language_info": {
   "codemirror_mode": {
    "name": "ipython",
    "version": 3
   },
   "file_extension": ".py",
   "mimetype": "text/x-python",
   "name": "python",
   "nbconvert_exporter": "python",
   "pygments_lexer": "ipython3",
   "version": "3.6.3"
  }
 },
 "nbformat": 4,
 "nbformat_minor": 2
}
